{
  "metadata": {
    "kernelspec": {
      "language": "python",
      "display_name": "Python 3",
      "name": "python3"
    },
    "language_info": {
      "name": "python",
      "version": "3.6.6",
      "mimetype": "text/x-python",
      "codemirror_mode": {
        "name": "ipython",
        "version": 3
      },
      "pygments_lexer": "ipython3",
      "nbconvert_exporter": "python",
      "file_extension": ".py"
    },
    "colab": {
      "provenance": []
    }
  },
  "nbformat_minor": 0,
  "nbformat": 4,
  "cells": [
    {
      "cell_type": "code",
      "source": [],
      "metadata": {
        "id": "V49noULy9f6t"
      },
      "execution_count": null,
      "outputs": []
    },
    {
      "cell_type": "code",
      "source": [
        "from google.colab import drive\n",
        "drive.mount('/content/drive')"
      ],
      "metadata": {
        "colab": {
          "base_uri": "https://localhost:8080/"
        },
        "id": "GGvakSCW9hWG",
        "outputId": "9818216a-a89d-46ce-e41d-cab0d5506641"
      },
      "execution_count": null,
      "outputs": [
        {
          "output_type": "stream",
          "name": "stdout",
          "text": [
            "Mounted at /content/drive\n"
          ]
        }
      ]
    },
    {
      "cell_type": "markdown",
      "source": [
        "## Importing Packages"
      ],
      "metadata": {
        "id": "zY34pQcw9eUD"
      }
    },
    {
      "cell_type": "code",
      "source": [
        "import os\n",
        "import numpy as np\n",
        "import pandas as pd\n",
        "from skimage.io import imread\n",
        "import matplotlib.pyplot as plt\n",
        "from skimage.segmentation import mark_boundaries\n",
        "\n",
        "\n",
        "import gc; gc.enable()\n",
        "from skimage.morphology import label\n",
        "from sklearn.model_selection import train_test_split"
      ],
      "metadata": {
        "execution": {
          "iopub.status.busy": "2023-09-12T02:27:05.986690Z",
          "iopub.execute_input": "2023-09-12T02:27:05.987028Z",
          "iopub.status.idle": "2023-09-12T02:27:07.022149Z",
          "shell.execute_reply.started": "2023-09-12T02:27:05.986969Z",
          "shell.execute_reply": "2023-09-12T02:27:07.021296Z"
        },
        "trusted": true,
        "id": "HpzwiQhr9eUE"
      },
      "execution_count": null,
      "outputs": []
    },
    {
      "cell_type": "code",
      "source": [
        "montage_rgb = lambda x: np.stack([montage(x[:, :, :, i]) for i in range(x.shape[3])], -1)\n",
        "ship_dir = '/content/drive/MyDrive/DATA_255/LAB1_part3'\n",
        "train_image_dir = '/content/drive/MyDrive/DATA_255/LAB1_part3/input_dir/Train Image1/TI/train images 1'#os.path.join(ship_dir, '/Train Image1/TI/train images 1')\n",
        "test_image_dir = os.path.join('/content/drive/MyDrive/DATA_255/LAB1_part3/input_dir/Test Image/untitled folder/test images 2')"
      ],
      "metadata": {
        "execution": {
          "iopub.status.busy": "2023-09-12T02:27:36.219294Z",
          "iopub.execute_input": "2023-09-12T02:27:36.219682Z",
          "iopub.status.idle": "2023-09-12T02:27:36.225687Z",
          "shell.execute_reply.started": "2023-09-12T02:27:36.219619Z",
          "shell.execute_reply": "2023-09-12T02:27:36.224421Z"
        },
        "trusted": true,
        "id": "7DEmtfpH9eUF"
      },
      "execution_count": null,
      "outputs": []
    },
    {
      "cell_type": "markdown",
      "source": [
        "## Model Parameters\n",
        "We might want to adjust these later (or do some hyperparameter optimizations)"
      ],
      "metadata": {
        "_uuid": "a6cd9d5ad61ffe3b8858769f20a5f9493f024a56",
        "id": "AjGt__w39eUG"
      }
    },
    {
      "cell_type": "code",
      "source": [
        "BATCH_SIZE = 48\n",
        "NB_EPOCHS = 40\n",
        "VALID_IMG_COUNT = 900\n",
        "MAX_TRAIN_STEPS = 9\n",
        "IMG_SCALING = (3, 3)\n",
        "BATCH_NORMALIZATION = None\n",
        "AUGMENT_BRIGHTNESS = False\n",
        "SEED = None"
      ],
      "metadata": {
        "_uuid": "301a5d939c566d1487a049bb2554d09b592b18b1",
        "execution": {
          "iopub.status.busy": "2023-09-12T02:27:16.157075Z",
          "iopub.execute_input": "2023-09-12T02:27:16.157473Z",
          "iopub.status.idle": "2023-09-12T02:27:16.162953Z",
          "shell.execute_reply.started": "2023-09-12T02:27:16.157403Z",
          "shell.execute_reply": "2023-09-12T02:27:16.161882Z"
        },
        "trusted": true,
        "id": "KcGYrZt_9eUG"
      },
      "execution_count": null,
      "outputs": []
    },
    {
      "cell_type": "code",
      "source": [
        "def multi_rle_encode(img):\n",
        "    labels = label(img[:, :, 0])\n",
        "    return [rle_encode(labels==k) for k in np.unique(labels[labels>0])]\n",
        "\n",
        "def rle_encode(img):\n",
        "    pixels = img.T.flatten()\n",
        "    pixels = np.concatenate([[0], pixels, [0]])\n",
        "    runs = np.where(pixels[1:] != pixels[:-1])[0] + 1\n",
        "    runs[1::2] -= runs[::2]\n",
        "    return ' '.join(str(x) for x in runs)\n",
        "\n",
        "def rle_decode(mask_rle, shape=(768, 768)):\n",
        "    s = mask_rle.split()\n",
        "    starts, lengths = [np.asarray(x, dtype=int) for x in (s[0:][::2], s[1:][::2])]\n",
        "    starts -= 1\n",
        "    ends = starts + lengths\n",
        "    img = np.zeros(shape[0]*shape[1], dtype=np.uint8)\n",
        "    for lo, hi in zip(starts, ends):\n",
        "        img[lo:hi] = 1\n",
        "    return img.reshape(shape).T  # Needed to align to RLE direction\n",
        "\n",
        "def masks_as_image(in_mask_list):\n",
        "    all_masks = np.zeros((768, 768), dtype = np.int16)\n",
        "    for mask in in_mask_list:\n",
        "        if isinstance(mask, str):\n",
        "            all_masks += rle_decode(mask)\n",
        "    return np.expand_dims(all_masks, -1)"
      ],
      "metadata": {
        "_uuid": "8f2839f25d086af736a60e9eeb907d3b93b6e0e5",
        "_cell_guid": "b1076dfc-b9ad-4769-8c92-a6c4dae69d19",
        "execution": {
          "iopub.status.busy": "2023-09-12T02:27:38.482032Z",
          "iopub.execute_input": "2023-09-12T02:27:38.482397Z",
          "iopub.status.idle": "2023-09-12T02:27:38.497537Z",
          "shell.execute_reply.started": "2023-09-12T02:27:38.482321Z",
          "shell.execute_reply": "2023-09-12T02:27:38.496582Z"
        },
        "trusted": true,
        "id": "0oL9bhx-9eUG"
      },
      "execution_count": null,
      "outputs": []
    },
    {
      "cell_type": "code",
      "source": [
        "masks = pd.read_csv(os.path.join('/content/drive/MyDrive/DATA_255/LAB1_part3/input_dir/train_df.csv'))\n",
        "print(masks.shape[0], 'masks found')\n",
        "print(masks['ImageId'].value_counts().shape[0])\n",
        "masks.head()"
      ],
      "metadata": {
        "_uuid": "3ca7119188fbb4c6540d9df55f5833b55435287e",
        "execution": {
          "iopub.status.busy": "2023-09-12T02:27:40.360812Z",
          "iopub.execute_input": "2023-09-12T02:27:40.361138Z",
          "iopub.status.idle": "2023-09-12T02:27:41.153307Z",
          "shell.execute_reply.started": "2023-09-12T02:27:40.361079Z",
          "shell.execute_reply": "2023-09-12T02:27:41.152479Z"
        },
        "trusted": true,
        "colab": {
          "base_uri": "https://localhost:8080/",
          "height": 241
        },
        "id": "WImTEowr9eUH",
        "outputId": "dbffa067-d929-4e43-a6be-e5e03f192ec8"
      },
      "execution_count": null,
      "outputs": [
        {
          "output_type": "stream",
          "name": "stdout",
          "text": [
            "194608 masks found\n",
            "161747\n"
          ]
        },
        {
          "output_type": "execute_result",
          "data": {
            "text/plain": [
              "   Unnamed: 0        ImageId  \\\n",
              "0           0  00003e153.jpg   \n",
              "1           1  0001124c7.jpg   \n",
              "2           2  000155de5.jpg   \n",
              "3           3  0001b1832.jpg   \n",
              "4           4  00021ddc3.jpg   \n",
              "\n",
              "                                       EncodedPixels  \n",
              "0                                                NaN  \n",
              "1                                                NaN  \n",
              "2  264661 17 265429 33 266197 33 266965 33 267733...  \n",
              "3                                                NaN  \n",
              "4  108287 1 109054 3 109821 4 110588 5 111356 5 1...  "
            ],
            "text/html": [
              "\n",
              "  <div id=\"df-b7f59efa-872f-4f66-89ae-7e160f7ced53\" class=\"colab-df-container\">\n",
              "    <div>\n",
              "<style scoped>\n",
              "    .dataframe tbody tr th:only-of-type {\n",
              "        vertical-align: middle;\n",
              "    }\n",
              "\n",
              "    .dataframe tbody tr th {\n",
              "        vertical-align: top;\n",
              "    }\n",
              "\n",
              "    .dataframe thead th {\n",
              "        text-align: right;\n",
              "    }\n",
              "</style>\n",
              "<table border=\"1\" class=\"dataframe\">\n",
              "  <thead>\n",
              "    <tr style=\"text-align: right;\">\n",
              "      <th></th>\n",
              "      <th>Unnamed: 0</th>\n",
              "      <th>ImageId</th>\n",
              "      <th>EncodedPixels</th>\n",
              "    </tr>\n",
              "  </thead>\n",
              "  <tbody>\n",
              "    <tr>\n",
              "      <th>0</th>\n",
              "      <td>0</td>\n",
              "      <td>00003e153.jpg</td>\n",
              "      <td>NaN</td>\n",
              "    </tr>\n",
              "    <tr>\n",
              "      <th>1</th>\n",
              "      <td>1</td>\n",
              "      <td>0001124c7.jpg</td>\n",
              "      <td>NaN</td>\n",
              "    </tr>\n",
              "    <tr>\n",
              "      <th>2</th>\n",
              "      <td>2</td>\n",
              "      <td>000155de5.jpg</td>\n",
              "      <td>264661 17 265429 33 266197 33 266965 33 267733...</td>\n",
              "    </tr>\n",
              "    <tr>\n",
              "      <th>3</th>\n",
              "      <td>3</td>\n",
              "      <td>0001b1832.jpg</td>\n",
              "      <td>NaN</td>\n",
              "    </tr>\n",
              "    <tr>\n",
              "      <th>4</th>\n",
              "      <td>4</td>\n",
              "      <td>00021ddc3.jpg</td>\n",
              "      <td>108287 1 109054 3 109821 4 110588 5 111356 5 1...</td>\n",
              "    </tr>\n",
              "  </tbody>\n",
              "</table>\n",
              "</div>\n",
              "    <div class=\"colab-df-buttons\">\n",
              "\n",
              "  <div class=\"colab-df-container\">\n",
              "    <button class=\"colab-df-convert\" onclick=\"convertToInteractive('df-b7f59efa-872f-4f66-89ae-7e160f7ced53')\"\n",
              "            title=\"Convert this dataframe to an interactive table.\"\n",
              "            style=\"display:none;\">\n",
              "\n",
              "  <svg xmlns=\"http://www.w3.org/2000/svg\" height=\"24px\" viewBox=\"0 -960 960 960\">\n",
              "    <path d=\"M120-120v-720h720v720H120Zm60-500h600v-160H180v160Zm220 220h160v-160H400v160Zm0 220h160v-160H400v160ZM180-400h160v-160H180v160Zm440 0h160v-160H620v160ZM180-180h160v-160H180v160Zm440 0h160v-160H620v160Z\"/>\n",
              "  </svg>\n",
              "    </button>\n",
              "\n",
              "  <style>\n",
              "    .colab-df-container {\n",
              "      display:flex;\n",
              "      gap: 12px;\n",
              "    }\n",
              "\n",
              "    .colab-df-convert {\n",
              "      background-color: #E8F0FE;\n",
              "      border: none;\n",
              "      border-radius: 50%;\n",
              "      cursor: pointer;\n",
              "      display: none;\n",
              "      fill: #1967D2;\n",
              "      height: 32px;\n",
              "      padding: 0 0 0 0;\n",
              "      width: 32px;\n",
              "    }\n",
              "\n",
              "    .colab-df-convert:hover {\n",
              "      background-color: #E2EBFA;\n",
              "      box-shadow: 0px 1px 2px rgba(60, 64, 67, 0.3), 0px 1px 3px 1px rgba(60, 64, 67, 0.15);\n",
              "      fill: #174EA6;\n",
              "    }\n",
              "\n",
              "    .colab-df-buttons div {\n",
              "      margin-bottom: 4px;\n",
              "    }\n",
              "\n",
              "    [theme=dark] .colab-df-convert {\n",
              "      background-color: #3B4455;\n",
              "      fill: #D2E3FC;\n",
              "    }\n",
              "\n",
              "    [theme=dark] .colab-df-convert:hover {\n",
              "      background-color: #434B5C;\n",
              "      box-shadow: 0px 1px 3px 1px rgba(0, 0, 0, 0.15);\n",
              "      filter: drop-shadow(0px 1px 2px rgba(0, 0, 0, 0.3));\n",
              "      fill: #FFFFFF;\n",
              "    }\n",
              "  </style>\n",
              "\n",
              "    <script>\n",
              "      const buttonEl =\n",
              "        document.querySelector('#df-b7f59efa-872f-4f66-89ae-7e160f7ced53 button.colab-df-convert');\n",
              "      buttonEl.style.display =\n",
              "        google.colab.kernel.accessAllowed ? 'block' : 'none';\n",
              "\n",
              "      async function convertToInteractive(key) {\n",
              "        const element = document.querySelector('#df-b7f59efa-872f-4f66-89ae-7e160f7ced53');\n",
              "        const dataTable =\n",
              "          await google.colab.kernel.invokeFunction('convertToInteractive',\n",
              "                                                    [key], {});\n",
              "        if (!dataTable) return;\n",
              "\n",
              "        const docLinkHtml = 'Like what you see? Visit the ' +\n",
              "          '<a target=\"_blank\" href=https://colab.research.google.com/notebooks/data_table.ipynb>data table notebook</a>'\n",
              "          + ' to learn more about interactive tables.';\n",
              "        element.innerHTML = '';\n",
              "        dataTable['output_type'] = 'display_data';\n",
              "        await google.colab.output.renderOutput(dataTable, element);\n",
              "        const docLink = document.createElement('div');\n",
              "        docLink.innerHTML = docLinkHtml;\n",
              "        element.appendChild(docLink);\n",
              "      }\n",
              "    </script>\n",
              "  </div>\n",
              "\n",
              "\n",
              "<div id=\"df-70d8dcba-620e-4ebe-9440-b156f2d9f1e4\">\n",
              "  <button class=\"colab-df-quickchart\" onclick=\"quickchart('df-70d8dcba-620e-4ebe-9440-b156f2d9f1e4')\"\n",
              "            title=\"Suggest charts.\"\n",
              "            style=\"display:none;\">\n",
              "\n",
              "<svg xmlns=\"http://www.w3.org/2000/svg\" height=\"24px\"viewBox=\"0 0 24 24\"\n",
              "     width=\"24px\">\n",
              "    <g>\n",
              "        <path d=\"M19 3H5c-1.1 0-2 .9-2 2v14c0 1.1.9 2 2 2h14c1.1 0 2-.9 2-2V5c0-1.1-.9-2-2-2zM9 17H7v-7h2v7zm4 0h-2V7h2v10zm4 0h-2v-4h2v4z\"/>\n",
              "    </g>\n",
              "</svg>\n",
              "  </button>\n",
              "\n",
              "<style>\n",
              "  .colab-df-quickchart {\n",
              "      --bg-color: #E8F0FE;\n",
              "      --fill-color: #1967D2;\n",
              "      --hover-bg-color: #E2EBFA;\n",
              "      --hover-fill-color: #174EA6;\n",
              "      --disabled-fill-color: #AAA;\n",
              "      --disabled-bg-color: #DDD;\n",
              "  }\n",
              "\n",
              "  [theme=dark] .colab-df-quickchart {\n",
              "      --bg-color: #3B4455;\n",
              "      --fill-color: #D2E3FC;\n",
              "      --hover-bg-color: #434B5C;\n",
              "      --hover-fill-color: #FFFFFF;\n",
              "      --disabled-bg-color: #3B4455;\n",
              "      --disabled-fill-color: #666;\n",
              "  }\n",
              "\n",
              "  .colab-df-quickchart {\n",
              "    background-color: var(--bg-color);\n",
              "    border: none;\n",
              "    border-radius: 50%;\n",
              "    cursor: pointer;\n",
              "    display: none;\n",
              "    fill: var(--fill-color);\n",
              "    height: 32px;\n",
              "    padding: 0;\n",
              "    width: 32px;\n",
              "  }\n",
              "\n",
              "  .colab-df-quickchart:hover {\n",
              "    background-color: var(--hover-bg-color);\n",
              "    box-shadow: 0 1px 2px rgba(60, 64, 67, 0.3), 0 1px 3px 1px rgba(60, 64, 67, 0.15);\n",
              "    fill: var(--button-hover-fill-color);\n",
              "  }\n",
              "\n",
              "  .colab-df-quickchart-complete:disabled,\n",
              "  .colab-df-quickchart-complete:disabled:hover {\n",
              "    background-color: var(--disabled-bg-color);\n",
              "    fill: var(--disabled-fill-color);\n",
              "    box-shadow: none;\n",
              "  }\n",
              "\n",
              "  .colab-df-spinner {\n",
              "    border: 2px solid var(--fill-color);\n",
              "    border-color: transparent;\n",
              "    border-bottom-color: var(--fill-color);\n",
              "    animation:\n",
              "      spin 1s steps(1) infinite;\n",
              "  }\n",
              "\n",
              "  @keyframes spin {\n",
              "    0% {\n",
              "      border-color: transparent;\n",
              "      border-bottom-color: var(--fill-color);\n",
              "      border-left-color: var(--fill-color);\n",
              "    }\n",
              "    20% {\n",
              "      border-color: transparent;\n",
              "      border-left-color: var(--fill-color);\n",
              "      border-top-color: var(--fill-color);\n",
              "    }\n",
              "    30% {\n",
              "      border-color: transparent;\n",
              "      border-left-color: var(--fill-color);\n",
              "      border-top-color: var(--fill-color);\n",
              "      border-right-color: var(--fill-color);\n",
              "    }\n",
              "    40% {\n",
              "      border-color: transparent;\n",
              "      border-right-color: var(--fill-color);\n",
              "      border-top-color: var(--fill-color);\n",
              "    }\n",
              "    60% {\n",
              "      border-color: transparent;\n",
              "      border-right-color: var(--fill-color);\n",
              "    }\n",
              "    80% {\n",
              "      border-color: transparent;\n",
              "      border-right-color: var(--fill-color);\n",
              "      border-bottom-color: var(--fill-color);\n",
              "    }\n",
              "    90% {\n",
              "      border-color: transparent;\n",
              "      border-bottom-color: var(--fill-color);\n",
              "    }\n",
              "  }\n",
              "</style>\n",
              "\n",
              "  <script>\n",
              "    async function quickchart(key) {\n",
              "      const quickchartButtonEl =\n",
              "        document.querySelector('#' + key + ' button');\n",
              "      quickchartButtonEl.disabled = true;  // To prevent multiple clicks.\n",
              "      quickchartButtonEl.classList.add('colab-df-spinner');\n",
              "      try {\n",
              "        const charts = await google.colab.kernel.invokeFunction(\n",
              "            'suggestCharts', [key], {});\n",
              "      } catch (error) {\n",
              "        console.error('Error during call to suggestCharts:', error);\n",
              "      }\n",
              "      quickchartButtonEl.classList.remove('colab-df-spinner');\n",
              "      quickchartButtonEl.classList.add('colab-df-quickchart-complete');\n",
              "    }\n",
              "    (() => {\n",
              "      let quickchartButtonEl =\n",
              "        document.querySelector('#df-70d8dcba-620e-4ebe-9440-b156f2d9f1e4 button');\n",
              "      quickchartButtonEl.style.display =\n",
              "        google.colab.kernel.accessAllowed ? 'block' : 'none';\n",
              "    })();\n",
              "  </script>\n",
              "</div>\n",
              "\n",
              "    </div>\n",
              "  </div>\n"
            ]
          },
          "metadata": {},
          "execution_count": 30
        }
      ]
    },
    {
      "cell_type": "markdown",
      "source": [
        "# Make sure encode/decode works\n",
        "Given the process\n",
        "$$  RLE_0 \\stackrel{Decode}{\\longrightarrow} \\textrm{Image}_0 \\stackrel{Encode}{\\longrightarrow} RLE_1 \\stackrel{Decode}{\\longrightarrow} \\textrm{Image}_1 $$\n",
        "We want to check if/that\n",
        "$ \\textrm{Image}_0 \\stackrel{?}{=} \\textrm{Image}_1 $\n",
        "We could check the RLEs as well but that is more tedious. Also depending on how the objects have been labeled we might have different counts.\n",
        "\n"
      ],
      "metadata": {
        "_uuid": "fdedd5965f47f84aa8f3aab1cad978512781a1cc",
        "id": "fNyCQ-Aw9eUI"
      }
    },
    {
      "cell_type": "code",
      "source": [
        "fig, (ax1, ax2) = plt.subplots(1, 2, figsize = (10, 5))\n",
        "rle_0 = masks.query('ImageId==\"00021ddc3.jpg\"')['EncodedPixels']\n",
        "img_0 = masks_as_image(rle_0)\n",
        "ax1.imshow(img_0[:, :, 0])\n",
        "ax1.set_title('Image$_0$')\n",
        "rle_1 = multi_rle_encode(img_0)\n",
        "img_1 = masks_as_image(rle_1)\n",
        "ax2.imshow(img_1[:, :, 0])\n",
        "ax2.set_title('Image$_1$')\n",
        "print('Check Decoding->Encoding',\n",
        "      'RLE_0:', len(rle_0), '->',\n",
        "      'RLE_1:', len(rle_1))"
      ],
      "metadata": {
        "_uuid": "0081fd6f387abd7c05eb35f29575a2ee6ddc2236",
        "execution": {
          "iopub.status.busy": "2023-09-12T02:27:41.784739Z",
          "iopub.execute_input": "2023-09-12T02:27:41.785071Z",
          "iopub.status.idle": "2023-09-12T02:27:42.435524Z",
          "shell.execute_reply.started": "2023-09-12T02:27:41.785012Z",
          "shell.execute_reply": "2023-09-12T02:27:42.434285Z"
        },
        "trusted": true,
        "colab": {
          "base_uri": "https://localhost:8080/",
          "height": 453
        },
        "id": "ODC2Fdew9eUI",
        "outputId": "1c1c53ad-3da5-41c6-fb7b-43e8a3cccbf7"
      },
      "execution_count": null,
      "outputs": [
        {
          "output_type": "stream",
          "name": "stdout",
          "text": [
            "Check Decoding->Encoding RLE_0: 9 -> RLE_1: 4\n"
          ]
        },
        {
          "output_type": "display_data",
          "data": {
            "text/plain": [
              "<Figure size 1000x500 with 2 Axes>"
            ],
            "image/png": "[encoded data removed]"
          },
          "metadata": {}
        }
      ]
    },
    {
      "cell_type": "markdown",
      "source": [
        "# Split into training and validation groups\n",
        "We stratify by the number of boats appearing so we have nice balances in each set"
      ],
      "metadata": {
        "_uuid": "40cb72e241c0c3d8bc245b4e3c663b4a835b0011",
        "id": "MqHS8G129eUI"
      }
    },
    {
      "cell_type": "code",
      "source": [
        "import os\n",
        "\n",
        "masks['ships'] = masks['EncodedPixels'].map(lambda c_row: 1 if isinstance(c_row, str) else 0)\n",
        "\n",
        "unique_img_ids = masks.groupby('ImageId').agg({'ships': 'sum'}).reset_index()\n",
        "unique_img_ids['has_ship'] = unique_img_ids['ships'].map(lambda x: 1.0 if x>0 else 0.0)\n",
        "unique_img_ids['has_ship_vec'] = unique_img_ids['has_ship'].map(lambda x: [x])\n",
        "\n",
        "# filter out images not present in the directory\n",
        "unique_img_ids = unique_img_ids[unique_img_ids['ImageId'].isin(os.listdir('/content/drive/MyDrive/DATA_255/LAB1_part3/input_dir/Train Image1/TI/train images 1'))]\n",
        "\n",
        "# some files are too small/corrupt\n",
        "unique_img_ids['file_size_kb'] = unique_img_ids['ImageId'].map(lambda c_img_id:\n",
        "                                                               os.stat(os.path.join('/content/drive/MyDrive/DATA_255/LAB1_part3/input_dir/Train Image1/TI/train images 1',\n",
        "                                                                                    c_img_id)).st_size/1024)\n",
        "masks.drop(['ships'], axis=1, inplace=True)\n",
        "unique_img_ids.sample(7)"
      ],
      "metadata": {
        "_uuid": "c4f008bf6898518fd371de013418f936edaa09f8",
        "execution": {
          "iopub.status.busy": "2023-09-12T02:27:43.132892Z",
          "iopub.execute_input": "2023-09-12T02:27:43.133228Z",
          "iopub.status.idle": "2023-09-12T02:38:46.773410Z",
          "shell.execute_reply.started": "2023-09-12T02:27:43.133167Z",
          "shell.execute_reply": "2023-09-12T02:38:46.772361Z"
        },
        "trusted": true,
        "colab": {
          "base_uri": "https://localhost:8080/",
          "height": 269
        },
        "id": "mRgzLLI59eUJ",
        "outputId": "c229c1c3-f7b0-4171-95b1-3cdc27e1d0a5"
      },
      "execution_count": null,
      "outputs": [
        {
          "output_type": "execute_result",
          "data": {
            "text/plain": [
              "              ImageId  ships  has_ship has_ship_vec  file_size_kb\n",
              "7018    0b0c3c929.jpg      0       0.0        [0.0]     93.214844\n",
              "103922  a484f9291.jpg      1       1.0        [1.0]    135.487305\n",
              "11128   119b33fd0.jpg      0       0.0        [0.0]     95.026367\n",
              "75405   774cf1a7b.jpg      0       0.0        [0.0]    140.211914\n",
              "76478   78f927e7b.jpg      0       0.0        [0.0]     86.417969\n",
              "64563   66350769c.jpg      0       0.0        [0.0]    106.907227\n",
              "85206   86edc7746.jpg      1       1.0        [1.0]    146.298828"
            ],
            "text/html": [
              "\n",
              "  <div id=\"df-01749b4f-1070-4b34-ae61-bacb00cf7ffa\" class=\"colab-df-container\">\n",
              "    <div>\n",
              "<style scoped>\n",
              "    .dataframe tbody tr th:only-of-type {\n",
              "        vertical-align: middle;\n",
              "    }\n",
              "\n",
              "    .dataframe tbody tr th {\n",
              "        vertical-align: top;\n",
              "    }\n",
              "\n",
              "    .dataframe thead th {\n",
              "        text-align: right;\n",
              "    }\n",
              "</style>\n",
              "<table border=\"1\" class=\"dataframe\">\n",
              "  <thead>\n",
              "    <tr style=\"text-align: right;\">\n",
              "      <th></th>\n",
              "      <th>ImageId</th>\n",
              "      <th>ships</th>\n",
              "      <th>has_ship</th>\n",
              "      <th>has_ship_vec</th>\n",
              "      <th>file_size_kb</th>\n",
              "    </tr>\n",
              "  </thead>\n",
              "  <tbody>\n",
              "    <tr>\n",
              "      <th>7018</th>\n",
              "      <td>0b0c3c929.jpg</td>\n",
              "      <td>0</td>\n",
              "      <td>0.0</td>\n",
              "      <td>[0.0]</td>\n",
              "      <td>93.214844</td>\n",
              "    </tr>\n",
              "    <tr>\n",
              "      <th>103922</th>\n",
              "      <td>a484f9291.jpg</td>\n",
              "      <td>1</td>\n",
              "      <td>1.0</td>\n",
              "      <td>[1.0]</td>\n",
              "      <td>135.487305</td>\n",
              "    </tr>\n",
              "    <tr>\n",
              "      <th>11128</th>\n",
              "      <td>119b33fd0.jpg</td>\n",
              "      <td>0</td>\n",
              "      <td>0.0</td>\n",
              "      <td>[0.0]</td>\n",
              "      <td>95.026367</td>\n",
              "    </tr>\n",
              "    <tr>\n",
              "      <th>75405</th>\n",
              "      <td>774cf1a7b.jpg</td>\n",
              "      <td>0</td>\n",
              "      <td>0.0</td>\n",
              "      <td>[0.0]</td>\n",
              "      <td>140.211914</td>\n",
              "    </tr>\n",
              "    <tr>\n",
              "      <th>76478</th>\n",
              "      <td>78f927e7b.jpg</td>\n",
              "      <td>0</td>\n",
              "      <td>0.0</td>\n",
              "      <td>[0.0]</td>\n",
              "      <td>86.417969</td>\n",
              "    </tr>\n",
              "    <tr>\n",
              "      <th>64563</th>\n",
              "      <td>66350769c.jpg</td>\n",
              "      <td>0</td>\n",
              "      <td>0.0</td>\n",
              "      <td>[0.0]</td>\n",
              "      <td>106.907227</td>\n",
              "    </tr>\n",
              "    <tr>\n",
              "      <th>85206</th>\n",
              "      <td>86edc7746.jpg</td>\n",
              "      <td>1</td>\n",
              "      <td>1.0</td>\n",
              "      <td>[1.0]</td>\n",
              "      <td>146.298828</td>\n",
              "    </tr>\n",
              "  </tbody>\n",
              "</table>\n",
              "</div>\n",
              "    <div class=\"colab-df-buttons\">\n",
              "\n",
              "  <div class=\"colab-df-container\">\n",
              "    <button class=\"colab-df-convert\" onclick=\"convertToInteractive('df-01749b4f-1070-4b34-ae61-bacb00cf7ffa')\"\n",
              "            title=\"Convert this dataframe to an interactive table.\"\n",
              "            style=\"display:none;\">\n",
              "\n",
              "  <svg xmlns=\"http://www.w3.org/2000/svg\" height=\"24px\" viewBox=\"0 -960 960 960\">\n",
              "    <path d=\"M120-120v-720h720v720H120Zm60-500h600v-160H180v160Zm220 220h160v-160H400v160Zm0 220h160v-160H400v160ZM180-400h160v-160H180v160Zm440 0h160v-160H620v160ZM180-180h160v-160H180v160Zm440 0h160v-160H620v160Z\"/>\n",
              "  </svg>\n",
              "    </button>\n",
              "\n",
              "  <style>\n",
              "    .colab-df-container {\n",
              "      display:flex;\n",
              "      gap: 12px;\n",
              "    }\n",
              "\n",
              "    .colab-df-convert {\n",
              "      background-color: #E8F0FE;\n",
              "      border: none;\n",
              "      border-radius: 50%;\n",
              "      cursor: pointer;\n",
              "      display: none;\n",
              "      fill: #1967D2;\n",
              "      height: 32px;\n",
              "      padding: 0 0 0 0;\n",
              "      width: 32px;\n",
              "    }\n",
              "\n",
              "    .colab-df-convert:hover {\n",
              "      background-color: #E2EBFA;\n",
              "      box-shadow: 0px 1px 2px rgba(60, 64, 67, 0.3), 0px 1px 3px 1px rgba(60, 64, 67, 0.15);\n",
              "      fill: #174EA6;\n",
              "    }\n",
              "\n",
              "    .colab-df-buttons div {\n",
              "      margin-bottom: 4px;\n",
              "    }\n",
              "\n",
              "    [theme=dark] .colab-df-convert {\n",
              "      background-color: #3B4455;\n",
              "      fill: #D2E3FC;\n",
              "    }\n",
              "\n",
              "    [theme=dark] .colab-df-convert:hover {\n",
              "      background-color: #434B5C;\n",
              "      box-shadow: 0px 1px 3px 1px rgba(0, 0, 0, 0.15);\n",
              "      filter: drop-shadow(0px 1px 2px rgba(0, 0, 0, 0.3));\n",
              "      fill: #FFFFFF;\n",
              "    }\n",
              "  </style>\n",
              "\n",
              "    <script>\n",
              "      const buttonEl =\n",
              "        document.querySelector('#df-01749b4f-1070-4b34-ae61-bacb00cf7ffa button.colab-df-convert');\n",
              "      buttonEl.style.display =\n",
              "        google.colab.kernel.accessAllowed ? 'block' : 'none';\n",
              "\n",
              "      async function convertToInteractive(key) {\n",
              "        const element = document.querySelector('#df-01749b4f-1070-4b34-ae61-bacb00cf7ffa');\n",
              "        const dataTable =\n",
              "          await google.colab.kernel.invokeFunction('convertToInteractive',\n",
              "                                                    [key], {});\n",
              "        if (!dataTable) return;\n",
              "\n",
              "        const docLinkHtml = 'Like what you see? Visit the ' +\n",
              "          '<a target=\"_blank\" href=https://colab.research.google.com/notebooks/data_table.ipynb>data table notebook</a>'\n",
              "          + ' to learn more about interactive tables.';\n",
              "        element.innerHTML = '';\n",
              "        dataTable['output_type'] = 'display_data';\n",
              "        await google.colab.output.renderOutput(dataTable, element);\n",
              "        const docLink = document.createElement('div');\n",
              "        docLink.innerHTML = docLinkHtml;\n",
              "        element.appendChild(docLink);\n",
              "      }\n",
              "    </script>\n",
              "  </div>\n",
              "\n",
              "\n",
              "<div id=\"df-1c414af1-6502-44e8-84cb-645c948b683e\">\n",
              "  <button class=\"colab-df-quickchart\" onclick=\"quickchart('df-1c414af1-6502-44e8-84cb-645c948b683e')\"\n",
              "            title=\"Suggest charts.\"\n",
              "            style=\"display:none;\">\n",
              "\n",
              "<svg xmlns=\"http://www.w3.org/2000/svg\" height=\"24px\"viewBox=\"0 0 24 24\"\n",
              "     width=\"24px\">\n",
              "    <g>\n",
              "        <path d=\"M19 3H5c-1.1 0-2 .9-2 2v14c0 1.1.9 2 2 2h14c1.1 0 2-.9 2-2V5c0-1.1-.9-2-2-2zM9 17H7v-7h2v7zm4 0h-2V7h2v10zm4 0h-2v-4h2v4z\"/>\n",
              "    </g>\n",
              "</svg>\n",
              "  </button>\n",
              "\n",
              "<style>\n",
              "  .colab-df-quickchart {\n",
              "      --bg-color: #E8F0FE;\n",
              "      --fill-color: #1967D2;\n",
              "      --hover-bg-color: #E2EBFA;\n",
              "      --hover-fill-color: #174EA6;\n",
              "      --disabled-fill-color: #AAA;\n",
              "      --disabled-bg-color: #DDD;\n",
              "  }\n",
              "\n",
              "  [theme=dark] .colab-df-quickchart {\n",
              "      --bg-color: #3B4455;\n",
              "      --fill-color: #D2E3FC;\n",
              "      --hover-bg-color: #434B5C;\n",
              "      --hover-fill-color: #FFFFFF;\n",
              "      --disabled-bg-color: #3B4455;\n",
              "      --disabled-fill-color: #666;\n",
              "  }\n",
              "\n",
              "  .colab-df-quickchart {\n",
              "    background-color: var(--bg-color);\n",
              "    border: none;\n",
              "    border-radius: 50%;\n",
              "    cursor: pointer;\n",
              "    display: none;\n",
              "    fill: var(--fill-color);\n",
              "    height: 32px;\n",
              "    padding: 0;\n",
              "    width: 32px;\n",
              "  }\n",
              "\n",
              "  .colab-df-quickchart:hover {\n",
              "    background-color: var(--hover-bg-color);\n",
              "    box-shadow: 0 1px 2px rgba(60, 64, 67, 0.3), 0 1px 3px 1px rgba(60, 64, 67, 0.15);\n",
              "    fill: var(--button-hover-fill-color);\n",
              "  }\n",
              "\n",
              "  .colab-df-quickchart-complete:disabled,\n",
              "  .colab-df-quickchart-complete:disabled:hover {\n",
              "    background-color: var(--disabled-bg-color);\n",
              "    fill: var(--disabled-fill-color);\n",
              "    box-shadow: none;\n",
              "  }\n",
              "\n",
              "  .colab-df-spinner {\n",
              "    border: 2px solid var(--fill-color);\n",
              "    border-color: transparent;\n",
              "    border-bottom-color: var(--fill-color);\n",
              "    animation:\n",
              "      spin 1s steps(1) infinite;\n",
              "  }\n",
              "\n",
              "  @keyframes spin {\n",
              "    0% {\n",
              "      border-color: transparent;\n",
              "      border-bottom-color: var(--fill-color);\n",
              "      border-left-color: var(--fill-color);\n",
              "    }\n",
              "    20% {\n",
              "      border-color: transparent;\n",
              "      border-left-color: var(--fill-color);\n",
              "      border-top-color: var(--fill-color);\n",
              "    }\n",
              "    30% {\n",
              "      border-color: transparent;\n",
              "      border-left-color: var(--fill-color);\n",
              "      border-top-color: var(--fill-color);\n",
              "      border-right-color: var(--fill-color);\n",
              "    }\n",
              "    40% {\n",
              "      border-color: transparent;\n",
              "      border-right-color: var(--fill-color);\n",
              "      border-top-color: var(--fill-color);\n",
              "    }\n",
              "    60% {\n",
              "      border-color: transparent;\n",
              "      border-right-color: var(--fill-color);\n",
              "    }\n",
              "    80% {\n",
              "      border-color: transparent;\n",
              "      border-right-color: var(--fill-color);\n",
              "      border-bottom-color: var(--fill-color);\n",
              "    }\n",
              "    90% {\n",
              "      border-color: transparent;\n",
              "      border-bottom-color: var(--fill-color);\n",
              "    }\n",
              "  }\n",
              "</style>\n",
              "\n",
              "  <script>\n",
              "    async function quickchart(key) {\n",
              "      const quickchartButtonEl =\n",
              "        document.querySelector('#' + key + ' button');\n",
              "      quickchartButtonEl.disabled = true;  // To prevent multiple clicks.\n",
              "      quickchartButtonEl.classList.add('colab-df-spinner');\n",
              "      try {\n",
              "        const charts = await google.colab.kernel.invokeFunction(\n",
              "            'suggestCharts', [key], {});\n",
              "      } catch (error) {\n",
              "        console.error('Error during call to suggestCharts:', error);\n",
              "      }\n",
              "      quickchartButtonEl.classList.remove('colab-df-spinner');\n",
              "      quickchartButtonEl.classList.add('colab-df-quickchart-complete');\n",
              "    }\n",
              "    (() => {\n",
              "      let quickchartButtonEl =\n",
              "        document.querySelector('#df-1c414af1-6502-44e8-84cb-645c948b683e button');\n",
              "      quickchartButtonEl.style.display =\n",
              "        google.colab.kernel.accessAllowed ? 'block' : 'none';\n",
              "    })();\n",
              "  </script>\n",
              "</div>\n",
              "\n",
              "    </div>\n",
              "  </div>\n"
            ]
          },
          "metadata": {},
          "execution_count": 32
        }
      ]
    },
    {
      "cell_type": "markdown",
      "source": [
        "# Undersample Empty Images\n",
        "Here we undersample the empty images to get a better balanced group with more ships to try and segment"
      ],
      "metadata": {
        "_uuid": "ef8115a80749ac47f295e9a70217a5553970c2b3",
        "id": "txytyg-p9eUJ"
      }
    },
    {
      "cell_type": "code",
      "source": [
        "SAMPLES_PER_GROUP = 2000\n",
        "balanced_df = unique_img_ids.groupby('ships').apply(lambda x: x.sample(SAMPLES_PER_GROUP) if len(x) > SAMPLES_PER_GROUP else x)\n",
        "balanced_df['ships'].hist(bins=balanced_df['ships'].max()+1)\n",
        "print(balanced_df.shape[0], 'masks')"
      ],
      "metadata": {
        "execution": {
          "iopub.status.busy": "2023-09-12T02:42:30.916895Z",
          "iopub.execute_input": "2023-09-12T02:42:30.917236Z",
          "iopub.status.idle": "2023-09-12T02:42:31.373049Z",
          "shell.execute_reply.started": "2023-09-12T02:42:30.917177Z",
          "shell.execute_reply": "2023-09-12T02:42:31.372012Z"
        },
        "trusted": true,
        "colab": {
          "base_uri": "https://localhost:8080/",
          "height": 447
        },
        "id": "8p5lag029eUJ",
        "outputId": "cdb1253b-25c0-4f4e-9fe3-2da2529d3c75"
      },
      "execution_count": null,
      "outputs": [
        {
          "output_type": "stream",
          "name": "stdout",
          "text": [
            "5971 masks\n"
          ]
        },
        {
          "output_type": "display_data",
          "data": {
            "text/plain": [
              "<Figure size 640x480 with 1 Axes>"
            ],
            "image/png": "[encoded data removed]"
          },
          "metadata": {}
        }
      ]
    },
    {
      "cell_type": "code",
      "source": [
        "train_ids, valid_ids = train_test_split(balanced_df,\n",
        "                 test_size = 0.2,\n",
        "                 stratify = balanced_df['ships'],\n",
        "                 random_state=SEED)\n",
        "train_df = pd.merge(masks, train_ids)\n",
        "valid_df = pd.merge(masks, valid_ids)\n",
        "print(train_df.shape[0], 'training masks')\n",
        "print(valid_df.shape[0], 'validation masks')"
      ],
      "metadata": {
        "_uuid": "871720221ac25f7f9408bfe01aeb4ccb95edbd1f",
        "execution": {
          "iopub.status.busy": "2023-09-12T03:47:26.272506Z",
          "iopub.execute_input": "2023-09-12T03:47:26.272854Z",
          "iopub.status.idle": "2023-09-12T03:47:26.429485Z",
          "shell.execute_reply.started": "2023-09-12T03:47:26.272796Z",
          "shell.execute_reply": "2023-09-12T03:47:26.428528Z"
        },
        "trusted": true,
        "colab": {
          "base_uri": "https://localhost:8080/"
        },
        "id": "-avrpSFd9eUJ",
        "outputId": "89052464-6d3b-46a0-f918-0c75d88e0c49"
      },
      "execution_count": null,
      "outputs": [
        {
          "output_type": "stream",
          "name": "stdout",
          "text": [
            "8682 training masks\n",
            "2171 validation masks\n"
          ]
        }
      ]
    },
    {
      "cell_type": "markdown",
      "source": [
        "### Examine Number of Ship Images\n",
        "Here we examine how often ships appear and replace the ones without any ships with 0"
      ],
      "metadata": {
        "_uuid": "c21d5bff04bf9180463969ac120379345745ed03",
        "id": "lYFfZTXn9eUK"
      }
    },
    {
      "cell_type": "code",
      "source": [
        "train_df['ships'].hist()"
      ],
      "metadata": {
        "_uuid": "2612fa47c7e9fdcaa7aa720c4e15fc86fd65d69a",
        "execution": {
          "iopub.status.busy": "2023-09-12T02:42:35.636110Z",
          "iopub.execute_input": "2023-09-12T02:42:35.636668Z",
          "iopub.status.idle": "2023-09-12T02:42:35.942900Z",
          "shell.execute_reply.started": "2023-09-12T02:42:35.636597Z",
          "shell.execute_reply": "2023-09-12T02:42:35.941526Z"
        },
        "trusted": true,
        "colab": {
          "base_uri": "https://localhost:8080/",
          "height": 447
        },
        "id": "-b2zVFgD9eUK",
        "outputId": "9659345f-f242-4b02-ccf3-8d2545c34276"
      },
      "execution_count": null,
      "outputs": [
        {
          "output_type": "execute_result",
          "data": {
            "text/plain": [
              "<Axes: >"
            ]
          },
          "metadata": {},
          "execution_count": 35
        },
        {
          "output_type": "display_data",
          "data": {
            "text/plain": [
              "<Figure size 640x480 with 1 Axes>"
            ],
            "image/png": "[encoded data removed]"
          },
          "metadata": {}
        }
      ]
    },
    {
      "cell_type": "markdown",
      "source": [
        "Decode all the RLEs into Images\n"
      ],
      "metadata": {
        "_uuid": "a3fb9fe33d81374c7bd836f5bc86a1df89190805",
        "id": "4BHxjpvc9eUK"
      }
    },
    {
      "cell_type": "markdown",
      "source": [],
      "metadata": {
        "id": "6PAhFhOPdW9O"
      }
    },
    {
      "cell_type": "markdown",
      "source": [],
      "metadata": {
        "id": "iRNroLXGdXZF"
      }
    },
    {
      "cell_type": "code",
      "source": [
        "def make_image_gen(in_df, batch_size = BATCH_SIZE):\n",
        "    all_batches = list(in_df.groupby('ImageId'))\n",
        "    out_rgb = []\n",
        "    out_mask = []\n",
        "    while True:\n",
        "        np.random.shuffle(all_batches)\n",
        "        for c_img_id, c_masks in all_batches:\n",
        "            rgb_path = os.path.join(train_image_dir, c_img_id)\n",
        "            c_img = imread(rgb_path)\n",
        "            c_mask = masks_as_image(c_masks['EncodedPixels'].values)\n",
        "            if IMG_SCALING is not None:\n",
        "                c_img = c_img[::IMG_SCALING[0], ::IMG_SCALING[1]]\n",
        "                c_mask = c_mask[::IMG_SCALING[0], ::IMG_SCALING[1]]\n",
        "            out_rgb += [c_img]\n",
        "            out_mask += [c_mask]\n",
        "            if len(out_rgb)>=batch_size:\n",
        "                yield np.stack(out_rgb, 0)/255.0, np.stack(out_mask, 0)\n",
        "                out_rgb, out_mask=[], []"
      ],
      "metadata": {
        "_uuid": "6181ac51577e5636995e38a9e29311cf47f513ca",
        "execution": {
          "iopub.status.busy": "2023-09-12T02:42:51.034515Z",
          "iopub.execute_input": "2023-09-12T02:42:51.034850Z",
          "iopub.status.idle": "2023-09-12T02:42:51.044690Z",
          "shell.execute_reply.started": "2023-09-12T02:42:51.034791Z",
          "shell.execute_reply": "2023-09-12T02:42:51.043715Z"
        },
        "trusted": true,
        "id": "KvkLI23f9eUK"
      },
      "execution_count": null,
      "outputs": []
    },
    {
      "cell_type": "code",
      "source": [
        "train_gen = make_image_gen(train_df)\n",
        "train_x, train_y = next(train_gen)\n",
        "print('x', train_x.shape, train_x.min(), train_x.max())\n",
        "print('y', train_y.shape, train_y.min(), train_y.max())"
      ],
      "metadata": {
        "_uuid": "1983738da75b031f2bec8ba36db01c095e7c5d59",
        "execution": {
          "iopub.status.busy": "2023-09-12T02:49:32.147715Z",
          "iopub.execute_input": "2023-09-12T02:49:32.148044Z",
          "iopub.status.idle": "2023-09-12T02:49:35.445492Z",
          "shell.execute_reply.started": "2023-09-12T02:49:32.147985Z",
          "shell.execute_reply": "2023-09-12T02:49:35.444524Z"
        },
        "trusted": true,
        "colab": {
          "base_uri": "https://localhost:8080/"
        },
        "id": "yBWDi7kb9eUL",
        "outputId": "a3c29272-d2b3-411e-eb73-b6efac0815e0"
      },
      "execution_count": null,
      "outputs": [
        {
          "output_type": "stream",
          "name": "stdout",
          "text": [
            "x (48, 256, 256, 3) 0.0 1.0\n",
            "y (48, 256, 256, 1) 0 1\n"
          ]
        }
      ]
    },
    {
      "cell_type": "markdown",
      "source": [
        "# Make the Validation Set"
      ],
      "metadata": {
        "_uuid": "8f47639c987a10ebcb53e51f55aa8a11c98fa860",
        "id": "sphsZIlx9eUL"
      }
    },
    {
      "cell_type": "code",
      "source": [
        "valid_x, valid_y = next(make_image_gen(valid_df, VALID_IMG_COUNT))\n",
        "print(valid_x.shape, valid_y.shape)"
      ],
      "metadata": {
        "_uuid": "30cb02a2a7103a9d66e90f701991199de1e5b73e",
        "execution": {
          "iopub.status.busy": "2023-09-12T02:43:33.162084Z",
          "iopub.execute_input": "2023-09-12T02:43:33.162440Z",
          "iopub.status.idle": "2023-09-12T02:43:55.789898Z",
          "shell.execute_reply.started": "2023-09-12T02:43:33.162378Z",
          "shell.execute_reply": "2023-09-12T02:43:55.789082Z"
        },
        "trusted": true,
        "colab": {
          "base_uri": "https://localhost:8080/"
        },
        "id": "PDTF0knq9eUL",
        "outputId": "a0d1d7fb-5eaa-4b46-ed0b-f146e7cca2c7"
      },
      "execution_count": null,
      "outputs": [
        {
          "output_type": "stream",
          "name": "stdout",
          "text": [
            "(900, 256, 256, 3) (900, 256, 256, 1)\n"
          ]
        }
      ]
    },
    {
      "cell_type": "code",
      "source": [
        "gc.collect()"
      ],
      "metadata": {
        "_uuid": "33300c4f03b6600da7b418f775d11d7ebf76a35a",
        "execution": {
          "iopub.status.busy": "2023-09-12T02:49:38.113132Z",
          "iopub.execute_input": "2023-09-12T02:49:38.113481Z",
          "iopub.status.idle": "2023-09-12T02:49:38.261553Z",
          "shell.execute_reply.started": "2023-09-12T02:49:38.113417Z",
          "shell.execute_reply": "2023-09-12T02:49:38.260664Z"
        },
        "trusted": true,
        "colab": {
          "base_uri": "https://localhost:8080/"
        },
        "id": "pPx6clFZ9eUM",
        "outputId": "1dec549e-4aaa-4d85-f7a1-c137352f7dee"
      },
      "execution_count": null,
      "outputs": [
        {
          "output_type": "execute_result",
          "data": {
            "text/plain": [
              "9007"
            ]
          },
          "metadata": {},
          "execution_count": 50
        }
      ]
    },
    {
      "cell_type": "code",
      "source": [
        "from keras.preprocessing.image import ImageDataGenerator\n",
        "dg_args = dict(featurewise_center = False,\n",
        "                  samplewise_center = False,\n",
        "                  rotation_range = 45,\n",
        "                  width_shift_range = 0.1,\n",
        "                  height_shift_range = 0.1,\n",
        "                  shear_range = 0.01,\n",
        "                  zoom_range = [0.9, 1.25],\n",
        "                  horizontal_flip = True,\n",
        "                  vertical_flip = True,\n",
        "                  fill_mode = 'reflect',\n",
        "                   data_format = 'channels_last')\n",
        "# brightness can be problematic since it seems to change the labels differently from the images\n",
        "if AUGMENT_BRIGHTNESS:\n",
        "    dg_args[' brightness_range'] = [0.5, 1.5]\n",
        "image_gen = ImageDataGenerator(**dg_args)\n",
        "\n",
        "if AUGMENT_BRIGHTNESS:\n",
        "    dg_args.pop('brightness_range')\n",
        "label_gen = ImageDataGenerator(**dg_args)\n",
        "\n",
        "def create_aug_gen(in_gen, seed=SEED):\n",
        "    np.random.seed(seed if seed is not None else np.random.choice(range(9999)))\n",
        "    for in_x, in_y in in_gen:\n",
        "        seed = np.random.choice(range(9999))\n",
        "        # keep the seeds syncronized otherwise the augmentation to the images is different from the masks\n",
        "        g_x = image_gen.flow(255*in_x,\n",
        "                             batch_size = in_x.shape[0],\n",
        "                             seed = seed,\n",
        "                             shuffle=True)\n",
        "        g_y = label_gen.flow(in_y,\n",
        "                             batch_size = in_x.shape[0],\n",
        "                             seed = seed,\n",
        "                             shuffle=True)\n",
        "\n",
        "        yield next(g_x)/255.0, next(g_y)"
      ],
      "metadata": {
        "execution": {
          "iopub.status.busy": "2023-09-12T02:48:01.750815Z",
          "iopub.execute_input": "2023-09-12T02:48:01.751171Z",
          "iopub.status.idle": "2023-09-12T02:48:02.087515Z",
          "shell.execute_reply.started": "2023-09-12T02:48:01.751114Z",
          "shell.execute_reply": "2023-09-12T02:48:02.086421Z"
        },
        "trusted": true,
        "id": "Yds4XME09eUM"
      },
      "execution_count": null,
      "outputs": []
    },
    {
      "cell_type": "markdown",
      "source": [
        "## Build Unet Model using ResNet50 as Encoder"
      ],
      "metadata": {
        "_uuid": "ba08494eb9736ec3556b7c879143cdcdea89febf",
        "id": "SKjrT4Hb9eUN"
      }
    },
    {
      "cell_type": "code",
      "source": [
        "import tensorflow as tf\n",
        "from tensorflow.keras.layers import Input, Conv2D, BatchNormalization, MaxPool2D, Conv2DTranspose, Concatenate, Activation\n",
        "from tensorflow.keras.models import Model\n",
        "from tensorflow.keras.applications import ResNet50, VGG16, VGG19, DenseNet121, DenseNet169"
      ],
      "metadata": {
        "execution": {
          "iopub.status.busy": "2023-09-12T02:48:04.984524Z",
          "iopub.execute_input": "2023-09-12T02:48:04.984853Z",
          "iopub.status.idle": "2023-09-12T02:48:04.990356Z",
          "shell.execute_reply.started": "2023-09-12T02:48:04.984797Z",
          "shell.execute_reply": "2023-09-12T02:48:04.989541Z"
        },
        "trusted": true,
        "id": "zS_ruIk59eUN"
      },
      "execution_count": null,
      "outputs": []
    },
    {
      "cell_type": "code",
      "source": [
        "def conv_block(inputs, no_filters):\n",
        "    x = Conv2D(no_filters, 3, padding=\"same\")(inputs)\n",
        "    if BATCH_NORMALIZATION is not None:\n",
        "        x = BatchNormalization()(x)\n",
        "    x = Activation(\"relu\")(x)\n",
        "\n",
        "    x = Conv2D(no_filters, 3, padding=\"same\")(x)\n",
        "    if BATCH_NORMALIZATION is not None:\n",
        "        x = BatchNormalization()(x)\n",
        "    x = Activation(\"relu\")(x)\n",
        "\n",
        "    return x\n",
        "\n",
        "def decoder_block(inputs, skip_features, no_filters):\n",
        "    x = Conv2DTranspose(no_filters, (2, 2), strides=2, padding=\"same\")(inputs)\n",
        "\n",
        "    x = Concatenate(axis=3)([skip_features, x])\n",
        "    x = conv_block(x, no_filters)\n",
        "    return x"
      ],
      "metadata": {
        "execution": {
          "iopub.status.busy": "2023-09-12T02:48:06.621567Z",
          "iopub.execute_input": "2023-09-12T02:48:06.621911Z",
          "iopub.status.idle": "2023-09-12T02:48:06.630883Z",
          "shell.execute_reply.started": "2023-09-12T02:48:06.621839Z",
          "shell.execute_reply": "2023-09-12T02:48:06.629959Z"
        },
        "trusted": true,
        "id": "IpVadb0M9eUN"
      },
      "execution_count": null,
      "outputs": []
    },
    {
      "cell_type": "code",
      "source": [
        "def build_resnet50_unet(input_shape):\n",
        "    \"\"\" Input \"\"\"\n",
        "    input_imgs = Input(input_shape, name = 'RGB_Input')\n",
        "\n",
        "    \"\"\" Pretrained ResNet50 Model \"\"\"\n",
        "    resnet50 = ResNet50(include_top=False, weights=\"imagenet\", input_tensor=input_imgs)\n",
        "\n",
        "#     resnet50.trainable = False\n",
        "\n",
        "    \"\"\" Skip Features \"\"\"\n",
        "    e1 = input_imgs  # (265, 265, 3)\n",
        "    e2 = resnet50.layers[4].output # (128, 128, 64)\n",
        "    e3 = resnet50.layers[38].output # (64, 64, 265)\n",
        "    e4 = resnet50.layers[80].output # (32, 32, 512)\n",
        "\n",
        "    \"\"\" Bridge \"\"\"\n",
        "    b1 = resnet50.layers[142].output # (16, 16, 1024)\n",
        "\n",
        "    \"\"\" Decoder \"\"\"\n",
        "    d1 = decoder_block(b1, e4, 512)\n",
        "    d2 = decoder_block(d1, e3, 256)\n",
        "    d3 = decoder_block(d2, e2, 128)\n",
        "    d4 = decoder_block(d3, e1, 64)\n",
        "\n",
        "    \"\"\" Outputs \"\"\"\n",
        "    outputs = Conv2D(1, 1, padding=\"same\", activation=\"sigmoid\")(d4)\n",
        "\n",
        "    model = Model(input_imgs, outputs)\n",
        "    return model"
      ],
      "metadata": {
        "execution": {
          "iopub.status.busy": "2023-09-12T02:48:08.766310Z",
          "iopub.execute_input": "2023-09-12T02:48:08.766681Z",
          "iopub.status.idle": "2023-09-12T02:48:08.776732Z",
          "shell.execute_reply.started": "2023-09-12T02:48:08.766620Z",
          "shell.execute_reply": "2023-09-12T02:48:08.775492Z"
        },
        "trusted": true,
        "id": "tHmfgre89eUN"
      },
      "execution_count": null,
      "outputs": []
    },
    {
      "cell_type": "code",
      "source": [
        "model = build_resnet50_unet(train_x.shape[1:])\n",
        "model.summary()"
      ],
      "metadata": {
        "execution": {
          "iopub.status.busy": "2023-09-12T03:19:44.365697Z",
          "iopub.execute_input": "2023-09-12T03:19:44.366021Z",
          "iopub.status.idle": "2023-09-12T03:19:46.389383Z",
          "shell.execute_reply.started": "2023-09-12T03:19:44.365964Z",
          "shell.execute_reply": "2023-09-12T03:19:46.388206Z"
        },
        "trusted": true,
        "colab": {
          "base_uri": "https://localhost:8080/"
        },
        "id": "-IAXsLL69eUP",
        "outputId": "7d9ca41e-dd4d-4b8a-d442-676fc8c1e310"
      },
      "execution_count": null,
      "outputs": [
        {
          "output_type": "stream",
          "name": "stdout",
          "text": [
            "Downloading data from https://storage.googleapis.com/tensorflow/keras-applications/resnet/resnet50_weights_tf_dim_ordering_tf_kernels_notop.h5\n",
            "94765736/94765736 [==============================] - 0s 0us/step\n",
            "Model: \"model\"\n",
            "__________________________________________________________________________________________________\n",
            " Layer (type)                Output Shape                 Param #   Connected to                  \n",
            "==================================================================================================\n",
            " RGB_Input (InputLayer)      [(None, 256, 256, 3)]        0         []                            \n",
            "                                                                                                  \n",
            " conv1_pad (ZeroPadding2D)   (None, 262, 262, 3)          0         ['RGB_Input[0][0]']           \n",
            "                                                                                                  \n",
            " conv1_conv (Conv2D)         (None, 128, 128, 64)         9472      ['conv1_pad[0][0]']           \n",
            "                                                                                                  \n",
            " conv1_bn (BatchNormalizati  (None, 128, 128, 64)         256       ['conv1_conv[0][0]']          \n",
            " on)                                                                                              \n",
            "                                                                                                  \n",
            " conv1_relu (Activation)     (None, 128, 128, 64)         0         ['conv1_bn[0][0]']            \n",
            "                                                                                                  \n",
            " pool1_pad (ZeroPadding2D)   (None, 130, 130, 64)         0         ['conv1_relu[0][0]']          \n",
            "                                                                                                  \n",
            " pool1_pool (MaxPooling2D)   (None, 64, 64, 64)           0         ['pool1_pad[0][0]']           \n",
            "                                                                                                  \n",
            " conv2_block1_1_conv (Conv2  (None, 64, 64, 64)           4160      ['pool1_pool[0][0]']          \n",
            " D)                                                                                               \n",
            "                                                                                                  \n",
            " conv2_block1_1_bn (BatchNo  (None, 64, 64, 64)           256       ['conv2_block1_1_conv[0][0]'] \n",
            " rmalization)                                                                                     \n",
            "                                                                                                  \n",
            " conv2_block1_1_relu (Activ  (None, 64, 64, 64)           0         ['conv2_block1_1_bn[0][0]']   \n",
            " ation)                                                                                           \n",
            "                                                                                                  \n",
            " conv2_block1_2_conv (Conv2  (None, 64, 64, 64)           36928     ['conv2_block1_1_relu[0][0]'] \n",
            " D)                                                                                               \n",
            "                                                                                                  \n",
            " conv2_block1_2_bn (BatchNo  (None, 64, 64, 64)           256       ['conv2_block1_2_conv[0][0]'] \n",
            " rmalization)                                                                                     \n",
            "                                                                                                  \n",
            " conv2_block1_2_relu (Activ  (None, 64, 64, 64)           0         ['conv2_block1_2_bn[0][0]']   \n",
            " ation)                                                                                           \n",
            "                                                                                                  \n",
            " conv2_block1_0_conv (Conv2  (None, 64, 64, 256)          16640     ['pool1_pool[0][0]']          \n",
            " D)                                                                                               \n",
            "                                                                                                  \n",
            " conv2_block1_3_conv (Conv2  (None, 64, 64, 256)          16640     ['conv2_block1_2_relu[0][0]'] \n",
            " D)                                                                                               \n",
            "                                                                                                  \n",
            " conv2_block1_0_bn (BatchNo  (None, 64, 64, 256)          1024      ['conv2_block1_0_conv[0][0]'] \n",
            " rmalization)                                                                                     \n",
            "                                                                                                  \n",
            " conv2_block1_3_bn (BatchNo  (None, 64, 64, 256)          1024      ['conv2_block1_3_conv[0][0]'] \n",
            " rmalization)                                                                                     \n",
            "                                                                                                  \n",
            " conv2_block1_add (Add)      (None, 64, 64, 256)          0         ['conv2_block1_0_bn[0][0]',   \n",
            "                                                                     'conv2_block1_3_bn[0][0]']   \n",
            "                                                                                                  \n",
            " conv2_block1_out (Activati  (None, 64, 64, 256)          0         ['conv2_block1_add[0][0]']    \n",
            " on)                                                                                              \n",
            "                                                                                                  \n",
            " conv2_block2_1_conv (Conv2  (None, 64, 64, 64)           16448     ['conv2_block1_out[0][0]']    \n",
            " D)                                                                                               \n",
            "                                                                                                  \n",
            " conv2_block2_1_bn (BatchNo  (None, 64, 64, 64)           256       ['conv2_block2_1_conv[0][0]'] \n",
            " rmalization)                                                                                     \n",
            "                                                                                                  \n",
            " conv2_block2_1_relu (Activ  (None, 64, 64, 64)           0         ['conv2_block2_1_bn[0][0]']   \n",
            " ation)                                                                                           \n",
            "                                                                                                  \n",
            " conv2_block2_2_conv (Conv2  (None, 64, 64, 64)           36928     ['conv2_block2_1_relu[0][0]'] \n",
            " D)                                                                                               \n",
            "                                                                                                  \n",
            " conv2_block2_2_bn (BatchNo  (None, 64, 64, 64)           256       ['conv2_block2_2_conv[0][0]'] \n",
            " rmalization)                                                                                     \n",
            "                                                                                                  \n",
            " conv2_block2_2_relu (Activ  (None, 64, 64, 64)           0         ['conv2_block2_2_bn[0][0]']   \n",
            " ation)                                                                                           \n",
            "                                                                                                  \n",
            " conv2_block2_3_conv (Conv2  (None, 64, 64, 256)          16640     ['conv2_block2_2_relu[0][0]'] \n",
            " D)                                                                                               \n",
            "                                                                                                  \n",
            " conv2_block2_3_bn (BatchNo  (None, 64, 64, 256)          1024      ['conv2_block2_3_conv[0][0]'] \n",
            " rmalization)                                                                                     \n",
            "                                                                                                  \n",
            " conv2_block2_add (Add)      (None, 64, 64, 256)          0         ['conv2_block1_out[0][0]',    \n",
            "                                                                     'conv2_block2_3_bn[0][0]']   \n",
            "                                                                                                  \n",
            " conv2_block2_out (Activati  (None, 64, 64, 256)          0         ['conv2_block2_add[0][0]']    \n",
            " on)                                                                                              \n",
            "                                                                                                  \n",
            " conv2_block3_1_conv (Conv2  (None, 64, 64, 64)           16448     ['conv2_block2_out[0][0]']    \n",
            " D)                                                                                               \n",
            "                                                                                                  \n",
            " conv2_block3_1_bn (BatchNo  (None, 64, 64, 64)           256       ['conv2_block3_1_conv[0][0]'] \n",
            " rmalization)                                                                                     \n",
            "                                                                                                  \n",
            " conv2_block3_1_relu (Activ  (None, 64, 64, 64)           0         ['conv2_block3_1_bn[0][0]']   \n",
            " ation)                                                                                           \n",
            "                                                                                                  \n",
            " conv2_block3_2_conv (Conv2  (None, 64, 64, 64)           36928     ['conv2_block3_1_relu[0][0]'] \n",
            " D)                                                                                               \n",
            "                                                                                                  \n",
            " conv2_block3_2_bn (BatchNo  (None, 64, 64, 64)           256       ['conv2_block3_2_conv[0][0]'] \n",
            " rmalization)                                                                                     \n",
            "                                                                                                  \n",
            " conv2_block3_2_relu (Activ  (None, 64, 64, 64)           0         ['conv2_block3_2_bn[0][0]']   \n",
            " ation)                                                                                           \n",
            "                                                                                                  \n",
            " conv2_block3_3_conv (Conv2  (None, 64, 64, 256)          16640     ['conv2_block3_2_relu[0][0]'] \n",
            " D)                                                                                               \n",
            "                                                                                                  \n",
            " conv2_block3_3_bn (BatchNo  (None, 64, 64, 256)          1024      ['conv2_block3_3_conv[0][0]'] \n",
            " rmalization)                                                                                     \n",
            "                                                                                                  \n",
            " conv2_block3_add (Add)      (None, 64, 64, 256)          0         ['conv2_block2_out[0][0]',    \n",
            "                                                                     'conv2_block3_3_bn[0][0]']   \n",
            "                                                                                                  \n",
            " conv2_block3_out (Activati  (None, 64, 64, 256)          0         ['conv2_block3_add[0][0]']    \n",
            " on)                                                                                              \n",
            "                                                                                                  \n",
            " conv3_block1_1_conv (Conv2  (None, 32, 32, 128)          32896     ['conv2_block3_out[0][0]']    \n",
            " D)                                                                                               \n",
            "                                                                                                  \n",
            " conv3_block1_1_bn (BatchNo  (None, 32, 32, 128)          512       ['conv3_block1_1_conv[0][0]'] \n",
            " rmalization)                                                                                     \n",
            "                                                                                                  \n",
            " conv3_block1_1_relu (Activ  (None, 32, 32, 128)          0         ['conv3_block1_1_bn[0][0]']   \n",
            " ation)                                                                                           \n",
            "                                                                                                  \n",
            " conv3_block1_2_conv (Conv2  (None, 32, 32, 128)          147584    ['conv3_block1_1_relu[0][0]'] \n",
            " D)                                                                                               \n",
            "                                                                                                  \n",
            " conv3_block1_2_bn (BatchNo  (None, 32, 32, 128)          512       ['conv3_block1_2_conv[0][0]'] \n",
            " rmalization)                                                                                     \n",
            "                                                                                                  \n",
            " conv3_block1_2_relu (Activ  (None, 32, 32, 128)          0         ['conv3_block1_2_bn[0][0]']   \n",
            " ation)                                                                                           \n",
            "                                                                                                  \n",
            " conv3_block1_0_conv (Conv2  (None, 32, 32, 512)          131584    ['conv2_block3_out[0][0]']    \n",
            " D)                                                                                               \n",
            "                                                                                                  \n",
            " conv3_block1_3_conv (Conv2  (None, 32, 32, 512)          66048     ['conv3_block1_2_relu[0][0]'] \n",
            " D)                                                                                               \n",
            "                                                                                                  \n",
            " conv3_block1_0_bn (BatchNo  (None, 32, 32, 512)          2048      ['conv3_block1_0_conv[0][0]'] \n",
            " rmalization)                                                                                     \n",
            "                                                                                                  \n",
            " conv3_block1_3_bn (BatchNo  (None, 32, 32, 512)          2048      ['conv3_block1_3_conv[0][0]'] \n",
            " rmalization)                                                                                     \n",
            "                                                                                                  \n",
            " conv3_block1_add (Add)      (None, 32, 32, 512)          0         ['conv3_block1_0_bn[0][0]',   \n",
            "                                                                     'conv3_block1_3_bn[0][0]']   \n",
            "                                                                                                  \n",
            " conv3_block1_out (Activati  (None, 32, 32, 512)          0         ['conv3_block1_add[0][0]']    \n",
            " on)                                                                                              \n",
            "                                                                                                  \n",
            " conv3_block2_1_conv (Conv2  (None, 32, 32, 128)          65664     ['conv3_block1_out[0][0]']    \n",
            " D)                                                                                               \n",
            "                                                                                                  \n",
            " conv3_block2_1_bn (BatchNo  (None, 32, 32, 128)          512       ['conv3_block2_1_conv[0][0]'] \n",
            " rmalization)                                                                                     \n",
            "                                                                                                  \n",
            " conv3_block2_1_relu (Activ  (None, 32, 32, 128)          0         ['conv3_block2_1_bn[0][0]']   \n",
            " ation)                                                                                           \n",
            "                                                                                                  \n",
            " conv3_block2_2_conv (Conv2  (None, 32, 32, 128)          147584    ['conv3_block2_1_relu[0][0]'] \n",
            " D)                                                                                               \n",
            "                                                                                                  \n",
            " conv3_block2_2_bn (BatchNo  (None, 32, 32, 128)          512       ['conv3_block2_2_conv[0][0]'] \n",
            " rmalization)                                                                                     \n",
            "                                                                                                  \n",
            " conv3_block2_2_relu (Activ  (None, 32, 32, 128)          0         ['conv3_block2_2_bn[0][0]']   \n",
            " ation)                                                                                           \n",
            "                                                                                                  \n",
            " conv3_block2_3_conv (Conv2  (None, 32, 32, 512)          66048     ['conv3_block2_2_relu[0][0]'] \n",
            " D)                                                                                               \n",
            "                                                                                                  \n",
            " conv3_block2_3_bn (BatchNo  (None, 32, 32, 512)          2048      ['conv3_block2_3_conv[0][0]'] \n",
            " rmalization)                                                                                     \n",
            "                                                                                                  \n",
            " conv3_block2_add (Add)      (None, 32, 32, 512)          0         ['conv3_block1_out[0][0]',    \n",
            "                                                                     'conv3_block2_3_bn[0][0]']   \n",
            "                                                                                                  \n",
            " conv3_block2_out (Activati  (None, 32, 32, 512)          0         ['conv3_block2_add[0][0]']    \n",
            " on)                                                                                              \n",
            "                                                                                                  \n",
            " conv3_block3_1_conv (Conv2  (None, 32, 32, 128)          65664     ['conv3_block2_out[0][0]']    \n",
            " D)                                                                                               \n",
            "                                                                                                  \n",
            " conv3_block3_1_bn (BatchNo  (None, 32, 32, 128)          512       ['conv3_block3_1_conv[0][0]'] \n",
            " rmalization)                                                                                     \n",
            "                                                                                                  \n",
            " conv3_block3_1_relu (Activ  (None, 32, 32, 128)          0         ['conv3_block3_1_bn[0][0]']   \n",
            " ation)                                                                                           \n",
            "                                                                                                  \n",
            " conv3_block3_2_conv (Conv2  (None, 32, 32, 128)          147584    ['conv3_block3_1_relu[0][0]'] \n",
            " D)                                                                                               \n",
            "                                                                                                  \n",
            " conv3_block3_2_bn (BatchNo  (None, 32, 32, 128)          512       ['conv3_block3_2_conv[0][0]'] \n",
            " rmalization)                                                                                     \n",
            "                                                                                                  \n",
            " conv3_block3_2_relu (Activ  (None, 32, 32, 128)          0         ['conv3_block3_2_bn[0][0]']   \n",
            " ation)                                                                                           \n",
            "                                                                                                  \n",
            " conv3_block3_3_conv (Conv2  (None, 32, 32, 512)          66048     ['conv3_block3_2_relu[0][0]'] \n",
            " D)                                                                                               \n",
            "                                                                                                  \n",
            " conv3_block3_3_bn (BatchNo  (None, 32, 32, 512)          2048      ['conv3_block3_3_conv[0][0]'] \n",
            " rmalization)                                                                                     \n",
            "                                                                                                  \n",
            " conv3_block3_add (Add)      (None, 32, 32, 512)          0         ['conv3_block2_out[0][0]',    \n",
            "                                                                     'conv3_block3_3_bn[0][0]']   \n",
            "                                                                                                  \n",
            " conv3_block3_out (Activati  (None, 32, 32, 512)          0         ['conv3_block3_add[0][0]']    \n",
            " on)                                                                                              \n",
            "                                                                                                  \n",
            " conv3_block4_1_conv (Conv2  (None, 32, 32, 128)          65664     ['conv3_block3_out[0][0]']    \n",
            " D)                                                                                               \n",
            "                                                                                                  \n",
            " conv3_block4_1_bn (BatchNo  (None, 32, 32, 128)          512       ['conv3_block4_1_conv[0][0]'] \n",
            " rmalization)                                                                                     \n",
            "                                                                                                  \n",
            " conv3_block4_1_relu (Activ  (None, 32, 32, 128)          0         ['conv3_block4_1_bn[0][0]']   \n",
            " ation)                                                                                           \n",
            "                                                                                                  \n",
            " conv3_block4_2_conv (Conv2  (None, 32, 32, 128)          147584    ['conv3_block4_1_relu[0][0]'] \n",
            " D)                                                                                               \n",
            "                                                                                                  \n",
            " conv3_block4_2_bn (BatchNo  (None, 32, 32, 128)          512       ['conv3_block4_2_conv[0][0]'] \n",
            " rmalization)                                                                                     \n",
            "                                                                                                  \n",
            " conv3_block4_2_relu (Activ  (None, 32, 32, 128)          0         ['conv3_block4_2_bn[0][0]']   \n",
            " ation)                                                                                           \n",
            "                                                                                                  \n",
            " conv3_block4_3_conv (Conv2  (None, 32, 32, 512)          66048     ['conv3_block4_2_relu[0][0]'] \n",
            " D)                                                                                               \n",
            "                                                                                                  \n",
            " conv3_block4_3_bn (BatchNo  (None, 32, 32, 512)          2048      ['conv3_block4_3_conv[0][0]'] \n",
            " rmalization)                                                                                     \n",
            "                                                                                                  \n",
            " conv3_block4_add (Add)      (None, 32, 32, 512)          0         ['conv3_block3_out[0][0]',    \n",
            "                                                                     'conv3_block4_3_bn[0][0]']   \n",
            "                                                                                                  \n",
            " conv3_block4_out (Activati  (None, 32, 32, 512)          0         ['conv3_block4_add[0][0]']    \n",
            " on)                                                                                              \n",
            "                                                                                                  \n",
            " conv4_block1_1_conv (Conv2  (None, 16, 16, 256)          131328    ['conv3_block4_out[0][0]']    \n",
            " D)                                                                                               \n",
            "                                                                                                  \n",
            " conv4_block1_1_bn (BatchNo  (None, 16, 16, 256)          1024      ['conv4_block1_1_conv[0][0]'] \n",
            " rmalization)                                                                                     \n",
            "                                                                                                  \n",
            " conv4_block1_1_relu (Activ  (None, 16, 16, 256)          0         ['conv4_block1_1_bn[0][0]']   \n",
            " ation)                                                                                           \n",
            "                                                                                                  \n",
            " conv4_block1_2_conv (Conv2  (None, 16, 16, 256)          590080    ['conv4_block1_1_relu[0][0]'] \n",
            " D)                                                                                               \n",
            "                                                                                                  \n",
            " conv4_block1_2_bn (BatchNo  (None, 16, 16, 256)          1024      ['conv4_block1_2_conv[0][0]'] \n",
            " rmalization)                                                                                     \n",
            "                                                                                                  \n",
            " conv4_block1_2_relu (Activ  (None, 16, 16, 256)          0         ['conv4_block1_2_bn[0][0]']   \n",
            " ation)                                                                                           \n",
            "                                                                                                  \n",
            " conv4_block1_0_conv (Conv2  (None, 16, 16, 1024)         525312    ['conv3_block4_out[0][0]']    \n",
            " D)                                                                                               \n",
            "                                                                                                  \n",
            " conv4_block1_3_conv (Conv2  (None, 16, 16, 1024)         263168    ['conv4_block1_2_relu[0][0]'] \n",
            " D)                                                                                               \n",
            "                                                                                                  \n",
            " conv4_block1_0_bn (BatchNo  (None, 16, 16, 1024)         4096      ['conv4_block1_0_conv[0][0]'] \n",
            " rmalization)                                                                                     \n",
            "                                                                                                  \n",
            " conv4_block1_3_bn (BatchNo  (None, 16, 16, 1024)         4096      ['conv4_block1_3_conv[0][0]'] \n",
            " rmalization)                                                                                     \n",
            "                                                                                                  \n",
            " conv4_block1_add (Add)      (None, 16, 16, 1024)         0         ['conv4_block1_0_bn[0][0]',   \n",
            "                                                                     'conv4_block1_3_bn[0][0]']   \n",
            "                                                                                                  \n",
            " conv4_block1_out (Activati  (None, 16, 16, 1024)         0         ['conv4_block1_add[0][0]']    \n",
            " on)                                                                                              \n",
            "                                                                                                  \n",
            " conv4_block2_1_conv (Conv2  (None, 16, 16, 256)          262400    ['conv4_block1_out[0][0]']    \n",
            " D)                                                                                               \n",
            "                                                                                                  \n",
            " conv4_block2_1_bn (BatchNo  (None, 16, 16, 256)          1024      ['conv4_block2_1_conv[0][0]'] \n",
            " rmalization)                                                                                     \n",
            "                                                                                                  \n",
            " conv4_block2_1_relu (Activ  (None, 16, 16, 256)          0         ['conv4_block2_1_bn[0][0]']   \n",
            " ation)                                                                                           \n",
            "                                                                                                  \n",
            " conv4_block2_2_conv (Conv2  (None, 16, 16, 256)          590080    ['conv4_block2_1_relu[0][0]'] \n",
            " D)                                                                                               \n",
            "                                                                                                  \n",
            " conv4_block2_2_bn (BatchNo  (None, 16, 16, 256)          1024      ['conv4_block2_2_conv[0][0]'] \n",
            " rmalization)                                                                                     \n",
            "                                                                                                  \n",
            " conv4_block2_2_relu (Activ  (None, 16, 16, 256)          0         ['conv4_block2_2_bn[0][0]']   \n",
            " ation)                                                                                           \n",
            "                                                                                                  \n",
            " conv4_block2_3_conv (Conv2  (None, 16, 16, 1024)         263168    ['conv4_block2_2_relu[0][0]'] \n",
            " D)                                                                                               \n",
            "                                                                                                  \n",
            " conv4_block2_3_bn (BatchNo  (None, 16, 16, 1024)         4096      ['conv4_block2_3_conv[0][0]'] \n",
            " rmalization)                                                                                     \n",
            "                                                                                                  \n",
            " conv4_block2_add (Add)      (None, 16, 16, 1024)         0         ['conv4_block1_out[0][0]',    \n",
            "                                                                     'conv4_block2_3_bn[0][0]']   \n",
            "                                                                                                  \n",
            " conv4_block2_out (Activati  (None, 16, 16, 1024)         0         ['conv4_block2_add[0][0]']    \n",
            " on)                                                                                              \n",
            "                                                                                                  \n",
            " conv4_block3_1_conv (Conv2  (None, 16, 16, 256)          262400    ['conv4_block2_out[0][0]']    \n",
            " D)                                                                                               \n",
            "                                                                                                  \n",
            " conv4_block3_1_bn (BatchNo  (None, 16, 16, 256)          1024      ['conv4_block3_1_conv[0][0]'] \n",
            " rmalization)                                                                                     \n",
            "                                                                                                  \n",
            " conv4_block3_1_relu (Activ  (None, 16, 16, 256)          0         ['conv4_block3_1_bn[0][0]']   \n",
            " ation)                                                                                           \n",
            "                                                                                                  \n",
            " conv4_block3_2_conv (Conv2  (None, 16, 16, 256)          590080    ['conv4_block3_1_relu[0][0]'] \n",
            " D)                                                                                               \n",
            "                                                                                                  \n",
            " conv4_block3_2_bn (BatchNo  (None, 16, 16, 256)          1024      ['conv4_block3_2_conv[0][0]'] \n",
            " rmalization)                                                                                     \n",
            "                                                                                                  \n",
            " conv4_block3_2_relu (Activ  (None, 16, 16, 256)          0         ['conv4_block3_2_bn[0][0]']   \n",
            " ation)                                                                                           \n",
            "                                                                                                  \n",
            " conv4_block3_3_conv (Conv2  (None, 16, 16, 1024)         263168    ['conv4_block3_2_relu[0][0]'] \n",
            " D)                                                                                               \n",
            "                                                                                                  \n",
            " conv4_block3_3_bn (BatchNo  (None, 16, 16, 1024)         4096      ['conv4_block3_3_conv[0][0]'] \n",
            " rmalization)                                                                                     \n",
            "                                                                                                  \n",
            " conv4_block3_add (Add)      (None, 16, 16, 1024)         0         ['conv4_block2_out[0][0]',    \n",
            "                                                                     'conv4_block3_3_bn[0][0]']   \n",
            "                                                                                                  \n",
            " conv4_block3_out (Activati  (None, 16, 16, 1024)         0         ['conv4_block3_add[0][0]']    \n",
            " on)                                                                                              \n",
            "                                                                                                  \n",
            " conv4_block4_1_conv (Conv2  (None, 16, 16, 256)          262400    ['conv4_block3_out[0][0]']    \n",
            " D)                                                                                               \n",
            "                                                                                                  \n",
            " conv4_block4_1_bn (BatchNo  (None, 16, 16, 256)          1024      ['conv4_block4_1_conv[0][0]'] \n",
            " rmalization)                                                                                     \n",
            "                                                                                                  \n",
            " conv4_block4_1_relu (Activ  (None, 16, 16, 256)          0         ['conv4_block4_1_bn[0][0]']   \n",
            " ation)                                                                                           \n",
            "                                                                                                  \n",
            " conv4_block4_2_conv (Conv2  (None, 16, 16, 256)          590080    ['conv4_block4_1_relu[0][0]'] \n",
            " D)                                                                                               \n",
            "                                                                                                  \n",
            " conv4_block4_2_bn (BatchNo  (None, 16, 16, 256)          1024      ['conv4_block4_2_conv[0][0]'] \n",
            " rmalization)                                                                                     \n",
            "                                                                                                  \n",
            " conv4_block4_2_relu (Activ  (None, 16, 16, 256)          0         ['conv4_block4_2_bn[0][0]']   \n",
            " ation)                                                                                           \n",
            "                                                                                                  \n",
            " conv4_block4_3_conv (Conv2  (None, 16, 16, 1024)         263168    ['conv4_block4_2_relu[0][0]'] \n",
            " D)                                                                                               \n",
            "                                                                                                  \n",
            " conv4_block4_3_bn (BatchNo  (None, 16, 16, 1024)         4096      ['conv4_block4_3_conv[0][0]'] \n",
            " rmalization)                                                                                     \n",
            "                                                                                                  \n",
            " conv4_block4_add (Add)      (None, 16, 16, 1024)         0         ['conv4_block3_out[0][0]',    \n",
            "                                                                     'conv4_block4_3_bn[0][0]']   \n",
            "                                                                                                  \n",
            " conv4_block4_out (Activati  (None, 16, 16, 1024)         0         ['conv4_block4_add[0][0]']    \n",
            " on)                                                                                              \n",
            "                                                                                                  \n",
            " conv4_block5_1_conv (Conv2  (None, 16, 16, 256)          262400    ['conv4_block4_out[0][0]']    \n",
            " D)                                                                                               \n",
            "                                                                                                  \n",
            " conv4_block5_1_bn (BatchNo  (None, 16, 16, 256)          1024      ['conv4_block5_1_conv[0][0]'] \n",
            " rmalization)                                                                                     \n",
            "                                                                                                  \n",
            " conv4_block5_1_relu (Activ  (None, 16, 16, 256)          0         ['conv4_block5_1_bn[0][0]']   \n",
            " ation)                                                                                           \n",
            "                                                                                                  \n",
            " conv4_block5_2_conv (Conv2  (None, 16, 16, 256)          590080    ['conv4_block5_1_relu[0][0]'] \n",
            " D)                                                                                               \n",
            "                                                                                                  \n",
            " conv4_block5_2_bn (BatchNo  (None, 16, 16, 256)          1024      ['conv4_block5_2_conv[0][0]'] \n",
            " rmalization)                                                                                     \n",
            "                                                                                                  \n",
            " conv4_block5_2_relu (Activ  (None, 16, 16, 256)          0         ['conv4_block5_2_bn[0][0]']   \n",
            " ation)                                                                                           \n",
            "                                                                                                  \n",
            " conv4_block5_3_conv (Conv2  (None, 16, 16, 1024)         263168    ['conv4_block5_2_relu[0][0]'] \n",
            " D)                                                                                               \n",
            "                                                                                                  \n",
            " conv4_block5_3_bn (BatchNo  (None, 16, 16, 1024)         4096      ['conv4_block5_3_conv[0][0]'] \n",
            " rmalization)                                                                                     \n",
            "                                                                                                  \n",
            " conv4_block5_add (Add)      (None, 16, 16, 1024)         0         ['conv4_block4_out[0][0]',    \n",
            "                                                                     'conv4_block5_3_bn[0][0]']   \n",
            "                                                                                                  \n",
            " conv4_block5_out (Activati  (None, 16, 16, 1024)         0         ['conv4_block5_add[0][0]']    \n",
            " on)                                                                                              \n",
            "                                                                                                  \n",
            " conv4_block6_1_conv (Conv2  (None, 16, 16, 256)          262400    ['conv4_block5_out[0][0]']    \n",
            " D)                                                                                               \n",
            "                                                                                                  \n",
            " conv4_block6_1_bn (BatchNo  (None, 16, 16, 256)          1024      ['conv4_block6_1_conv[0][0]'] \n",
            " rmalization)                                                                                     \n",
            "                                                                                                  \n",
            " conv4_block6_1_relu (Activ  (None, 16, 16, 256)          0         ['conv4_block6_1_bn[0][0]']   \n",
            " ation)                                                                                           \n",
            "                                                                                                  \n",
            " conv4_block6_2_conv (Conv2  (None, 16, 16, 256)          590080    ['conv4_block6_1_relu[0][0]'] \n",
            " D)                                                                                               \n",
            "                                                                                                  \n",
            " conv4_block6_2_bn (BatchNo  (None, 16, 16, 256)          1024      ['conv4_block6_2_conv[0][0]'] \n",
            " rmalization)                                                                                     \n",
            "                                                                                                  \n",
            " conv4_block6_2_relu (Activ  (None, 16, 16, 256)          0         ['conv4_block6_2_bn[0][0]']   \n",
            " ation)                                                                                           \n",
            "                                                                                                  \n",
            " conv4_block6_3_conv (Conv2  (None, 16, 16, 1024)         263168    ['conv4_block6_2_relu[0][0]'] \n",
            " D)                                                                                               \n",
            "                                                                                                  \n",
            " conv4_block6_3_bn (BatchNo  (None, 16, 16, 1024)         4096      ['conv4_block6_3_conv[0][0]'] \n",
            " rmalization)                                                                                     \n",
            "                                                                                                  \n",
            " conv4_block6_add (Add)      (None, 16, 16, 1024)         0         ['conv4_block5_out[0][0]',    \n",
            "                                                                     'conv4_block6_3_bn[0][0]']   \n",
            "                                                                                                  \n",
            " conv4_block6_out (Activati  (None, 16, 16, 1024)         0         ['conv4_block6_add[0][0]']    \n",
            " on)                                                                                              \n",
            "                                                                                                  \n",
            " conv2d_transpose (Conv2DTr  (None, 32, 32, 512)          2097664   ['conv4_block6_out[0][0]']    \n",
            " anspose)                                                                                         \n",
            "                                                                                                  \n",
            " concatenate (Concatenate)   (None, 32, 32, 1024)         0         ['conv3_block4_out[0][0]',    \n",
            "                                                                     'conv2d_transpose[0][0]']    \n",
            "                                                                                                  \n",
            " conv2d (Conv2D)             (None, 32, 32, 512)          4719104   ['concatenate[0][0]']         \n",
            "                                                                                                  \n",
            " activation (Activation)     (None, 32, 32, 512)          0         ['conv2d[0][0]']              \n",
            "                                                                                                  \n",
            " conv2d_1 (Conv2D)           (None, 32, 32, 512)          2359808   ['activation[0][0]']          \n",
            "                                                                                                  \n",
            " activation_1 (Activation)   (None, 32, 32, 512)          0         ['conv2d_1[0][0]']            \n",
            "                                                                                                  \n",
            " conv2d_transpose_1 (Conv2D  (None, 64, 64, 256)          524544    ['activation_1[0][0]']        \n",
            " Transpose)                                                                                       \n",
            "                                                                                                  \n",
            " concatenate_1 (Concatenate  (None, 64, 64, 512)          0         ['conv2_block3_out[0][0]',    \n",
            " )                                                                   'conv2d_transpose_1[0][0]']  \n",
            "                                                                                                  \n",
            " conv2d_2 (Conv2D)           (None, 64, 64, 256)          1179904   ['concatenate_1[0][0]']       \n",
            "                                                                                                  \n",
            " activation_2 (Activation)   (None, 64, 64, 256)          0         ['conv2d_2[0][0]']            \n",
            "                                                                                                  \n",
            " conv2d_3 (Conv2D)           (None, 64, 64, 256)          590080    ['activation_2[0][0]']        \n",
            "                                                                                                  \n",
            " activation_3 (Activation)   (None, 64, 64, 256)          0         ['conv2d_3[0][0]']            \n",
            "                                                                                                  \n",
            " conv2d_transpose_2 (Conv2D  (None, 128, 128, 128)        131200    ['activation_3[0][0]']        \n",
            " Transpose)                                                                                       \n",
            "                                                                                                  \n",
            " concatenate_2 (Concatenate  (None, 128, 128, 192)        0         ['conv1_relu[0][0]',          \n",
            " )                                                                   'conv2d_transpose_2[0][0]']  \n",
            "                                                                                                  \n",
            " conv2d_4 (Conv2D)           (None, 128, 128, 128)        221312    ['concatenate_2[0][0]']       \n",
            "                                                                                                  \n",
            " activation_4 (Activation)   (None, 128, 128, 128)        0         ['conv2d_4[0][0]']            \n",
            "                                                                                                  \n",
            " conv2d_5 (Conv2D)           (None, 128, 128, 128)        147584    ['activation_4[0][0]']        \n",
            "                                                                                                  \n",
            " activation_5 (Activation)   (None, 128, 128, 128)        0         ['conv2d_5[0][0]']            \n",
            "                                                                                                  \n",
            " conv2d_transpose_3 (Conv2D  (None, 256, 256, 64)         32832     ['activation_5[0][0]']        \n",
            " Transpose)                                                                                       \n",
            "                                                                                                  \n",
            " concatenate_3 (Concatenate  (None, 256, 256, 67)         0         ['RGB_Input[0][0]',           \n",
            " )                                                                   'conv2d_transpose_3[0][0]']  \n",
            "                                                                                                  \n",
            " conv2d_6 (Conv2D)           (None, 256, 256, 64)         38656     ['concatenate_3[0][0]']       \n",
            "                                                                                                  \n",
            " activation_6 (Activation)   (None, 256, 256, 64)         0         ['conv2d_6[0][0]']            \n",
            "                                                                                                  \n",
            " conv2d_7 (Conv2D)           (None, 256, 256, 64)         36928     ['activation_6[0][0]']        \n",
            "                                                                                                  \n",
            " activation_7 (Activation)   (None, 256, 256, 64)         0         ['conv2d_7[0][0]']            \n",
            "                                                                                                  \n",
            " conv2d_8 (Conv2D)           (None, 256, 256, 1)          65        ['activation_7[0][0]']        \n",
            "                                                                                                  \n",
            "==================================================================================================\n",
            "Total params: 20668865 (78.85 MB)\n",
            "Trainable params: 20638273 (78.73 MB)\n",
            "Non-trainable params: 30592 (119.50 KB)\n",
            "__________________________________________________________________________________________________\n"
          ]
        }
      ]
    },
    {
      "cell_type": "code",
      "source": [
        "import keras.backend as K\n",
        "from tensorflow.keras.optimizers import Adam\n",
        "from tensorflow.keras.losses import binary_crossentropy\n",
        "\n",
        "## intersection over union\n",
        "def IoU(y_true, y_pred, eps=1e-6):\n",
        "    if np.max(y_true) == 0.0:\n",
        "        return IoU(1-y_true, 1-y_pred) ## empty image; calc IoU of zeros\n",
        "    intersection = K.sum(y_true * y_pred, axis=[1,2,3])\n",
        "    union = K.sum(y_true, axis=[1,2,3]) + K.sum(y_pred, axis=[1,2,3]) - intersection\n",
        "    return -K.mean( (intersection + eps) / (union + eps), axis=0)\n",
        "\n",
        "def dice_coef(y_true, y_pred, smooth=1):\n",
        "    intersection = K.sum(y_true * y_pred, axis=[1,2,3])\n",
        "    union = K.sum(y_true, axis=[1,2,3]) + K.sum(y_pred, axis=[1,2,3])\n",
        "    return K.mean( (2. * intersection + smooth) / (union + smooth), axis=0)\n",
        "\n",
        "def combo_loss(y_true, y_pred):\n",
        "    return 1e-3 * binary_crossentropy(y_true, y_pred) - dice_coef(y_true, y_pred)\n",
        "\n",
        "def jaccard_index(y_true, y_pred, smooth=1):\n",
        "    intersection = K.sum(y_true * y_pred, axis=[1,2,3])\n",
        "    union = K.sum(y_true, axis=[1,2,3]) + K.sum(y_pred, axis=[1,2,3]) - intersection\n",
        "    return -K.mean((intersection + smooth) / (union + smooth), axis=0)\n",
        "\n",
        "model.compile(optimizer=Adam(1e-3), loss=IoU, metrics=[dice_coef, 'binary_accuracy'])"
      ],
      "metadata": {
        "_uuid": "1678069aa8013510264ba898291c6ae2dce88a76",
        "execution": {
          "iopub.status.busy": "2023-09-12T03:48:38.762874Z",
          "iopub.execute_input": "2023-09-12T03:48:38.763214Z",
          "iopub.status.idle": "2023-09-12T03:48:38.883467Z",
          "shell.execute_reply.started": "2023-09-12T03:48:38.763153Z",
          "shell.execute_reply": "2023-09-12T03:48:38.882454Z"
        },
        "trusted": true,
        "id": "YQEvpuiH9eUP"
      },
      "execution_count": null,
      "outputs": []
    },
    {
      "cell_type": "code",
      "source": [
        "from tensorflow.keras.callbacks import ModelCheckpoint, LearningRateScheduler, EarlyStopping, ReduceLROnPlateau\n",
        "model_dir='/content/seg_model.h5'  #use the model saved from the q3 part1\n",
        "if not os.path.isdir(model_dir):\n",
        "    os.mkdir(model_dir)\n",
        "\n",
        "weight_path=\"{}_weights.best.hdf5\".format(model_dir)\n",
        "\n",
        "checkpoint = ModelCheckpoint(weight_path, monitor='val_loss', verbose=1,\n",
        "                             save_best_only=True, mode='min', save_weights_only = True)\n",
        "\n",
        "reduceLROnPlat = ReduceLROnPlateau(monitor='val_loss', factor=0.33,\n",
        "                                   patience=1,\n",
        "                                   verbose=1, mode='min', min_delta=0.0001, cooldown=0, min_lr=1e-8)\n",
        "early = EarlyStopping(monitor=\"val_loss\",\n",
        "                      mode=\"min\",\n",
        "                      verbose = 2,\n",
        "                      patience=10) # probably needs to be more patient, but kaggle time is limited\n",
        "callbacks_list = [checkpoint, early, reduceLROnPlat]"
      ],
      "metadata": {
        "_uuid": "7282d18de3aff1cee12ff89b7d511a391702814f",
        "execution": {
          "iopub.status.busy": "2023-09-12T03:48:40.671091Z",
          "iopub.execute_input": "2023-09-12T03:48:40.671797Z",
          "iopub.status.idle": "2023-09-12T03:48:40.690020Z",
          "shell.execute_reply.started": "2023-09-12T03:48:40.671734Z",
          "shell.execute_reply": "2023-09-12T03:48:40.689179Z"
        },
        "trusted": true,
        "id": "8R-mQ8Mk9eUP"
      },
      "execution_count": null,
      "outputs": []
    },
    {
      "cell_type": "code",
      "source": [
        "def show_loss(loss_history):\n",
        "    epich = np.cumsum(np.concatenate(\n",
        "        [np.linspace(0.5, 1, len(mh.epoch)) for mh in loss_history]))\n",
        "    fig, (ax1, ax2, ax3) = plt.subplots(1, 3, figsize=(22, 10))\n",
        "    _ = ax1.plot(epich,\n",
        "                 np.concatenate([mh.history['loss'] for mh in loss_history]),\n",
        "                 'b-',\n",
        "                 epich, np.concatenate(\n",
        "            [mh.history['val_loss'] for mh in loss_history]), 'r-')\n",
        "    ax1.legend(['Training', 'Validation'])\n",
        "    ax1.set_title('Loss')\n",
        "\n",
        "    _ = ax2.plot(epich, np.concatenate(\n",
        "        [mh.history['dice_coef'] for mh in loss_history]), 'b-',\n",
        "                     epich, np.concatenate(\n",
        "            [mh.history['val_dice_coef'] for mh in loss_history]),\n",
        "                     'r-')\n",
        "    ax2.legend(['Training', 'Validation'])\n",
        "    ax2.set_title('DICE')\n",
        "\n",
        "    _ = ax3.plot(epich, np.concatenate(\n",
        "        [mh.history['binary_accuracy'] for mh in loss_history]), 'b-',\n",
        "                     epich, np.concatenate(\n",
        "            [mh.history['val_binary_accuracy'] for mh in loss_history]),\n",
        "                     'r-')\n",
        "    ax3.legend(['Training', 'Validation'])\n",
        "    ax3.set_title('Binary Accuracy (%)')\n",
        "    plt.savefig('losses.png')\n",
        "\n",
        "show_loss(loss_history)"
      ],
      "metadata": {
        "id": "47g2URw7tklB"
      },
      "execution_count": null,
      "outputs": []
    },
    {
      "cell_type": "markdown",
      "source": [
        "## Taking Insight about Training and Validation Results"
      ],
      "metadata": {
        "id": "wAH5do5x9eUe"
      }
    },
    {
      "cell_type": "code",
      "source": [
        "fig, m_axs = plt.subplots(20, 3, figsize = (10, 40))\n",
        "[c_ax.axis('off') for c_ax in m_axs.flatten()]\n",
        "valid_imgs = list(valid_df.groupby('ImageId'))\n",
        "for (ax1, ax2, ax3), (c_img_name, c_masks) in zip(m_axs, valid_imgs):\n",
        "    c_path = os.path.join(train_image_dir, c_img_name)\n",
        "    c_img = imread(c_path)\n",
        "    img = np.expand_dims(c_img, 0)/255.0\n",
        "    if IMG_SCALING is not None:\n",
        "        img = img[:, ::IMG_SCALING[0], ::IMG_SCALING[1]]\n",
        "    seg = model.predict(img)\n",
        "    mask = masks_as_image(c_masks['EncodedPixels'].values)\n",
        "    if IMG_SCALING is not None:\n",
        "        mask = mask[::IMG_SCALING[0], ::IMG_SCALING[1]]\n",
        "    ax1.imshow(img[0])\n",
        "    ax1.set_title('Image')\n",
        "    ax2.imshow(seg[0, :, :, 0], vmin = 0, vmax = 1)\n",
        "    ax2.set_title('Prediction')\n",
        "    ax3.imshow(mask[:, :, 0])\n",
        "    ax3.set_title('Ground Truth')\n",
        "plt.savefig('image_pred_ground_truth.png')"
      ],
      "metadata": {
        "id": "eW3TvBKxtoAa"
      },
      "execution_count": null,
      "outputs": []
    },
    {
      "cell_type": "code",
      "source": [
        "model.load_weights(weight_path)\n",
        "model.save('Unet_model.h5')"
      ],
      "metadata": {
        "_uuid": "ce1167e9f09200f537e61f93f486168a13be1711",
        "execution": {
          "iopub.status.busy": "2023-09-12T05:10:31.479300Z",
          "iopub.execute_input": "2023-09-12T05:10:31.479684Z",
          "iopub.status.idle": "2023-09-12T05:10:35.134435Z",
          "shell.execute_reply.started": "2023-09-12T05:10:31.479622Z",
          "shell.execute_reply": "2023-09-12T05:10:35.133434Z"
        },
        "trusted": true,
        "id": "wNJJq39P9eUf"
      },
      "execution_count": null,
      "outputs": []
    },
    {
      "cell_type": "code",
      "source": [
        "pred_y = model.predict(valid_x)\n",
        "print(pred_y.shape, pred_y.min(), pred_y.max(), pred_y.mean())"
      ],
      "metadata": {
        "id": "5UbHXpSFtuxn"
      },
      "execution_count": null,
      "outputs": []
    },
    {
      "cell_type": "code",
      "source": [
        "fig, ax = plt.subplots(1, 1, figsize = (10, 10))\n",
        "ax.hist(pred_y.ravel(), np.linspace(0, 1, 10))\n",
        "ax.set_xlim(0, 1)\n",
        "ax.set_yscale('log', nonposy='clip')"
      ],
      "metadata": {
        "id": "oWmpVbBUtwl_"
      },
      "execution_count": null,
      "outputs": []
    },
    {
      "cell_type": "markdown",
      "source": [
        "# Run the test data"
      ],
      "metadata": {
        "_uuid": "17edb177402ae51651692511827a7e9d60646533",
        "id": "RQi7vVyW9eUf"
      }
    },
    {
      "cell_type": "code",
      "source": [
        "test_paths = os.listdir(test_image_dir)\n",
        "print(len(test_paths), 'test images found')"
      ],
      "metadata": {
        "id": "9jnsvuINty2Z"
      },
      "execution_count": null,
      "outputs": []
    },
    {
      "cell_type": "markdown",
      "source": [
        "# Visualize test predictions"
      ],
      "metadata": {
        "id": "dmjYISc89eUg"
      }
    },
    {
      "cell_type": "code",
      "source": [
        "def predict(img_name):\n",
        "    c_path = os.path.join(test_image_dir, img_name)\n",
        "    c_img = imread(c_path)\n",
        "    img = np.expand_dims(c_img, 0)/255.0\n",
        "    if IMG_SCALING is not None:\n",
        "        img = img[:, ::IMG_SCALING[0], ::IMG_SCALING[1]]\n",
        "    return img, model.predict(img)"
      ],
      "metadata": {
        "execution": {
          "iopub.status.busy": "2023-09-12T05:11:09.220361Z",
          "iopub.execute_input": "2023-09-12T05:11:09.220694Z",
          "iopub.status.idle": "2023-09-12T05:11:09.227157Z",
          "shell.execute_reply.started": "2023-09-12T05:11:09.220632Z",
          "shell.execute_reply": "2023-09-12T05:11:09.226306Z"
        },
        "trusted": true,
        "id": "56R6tBQp9eUg"
      },
      "execution_count": null,
      "outputs": []
    },
    {
      "cell_type": "code",
      "source": [
        "fig, m_axs = plt.subplots(20, 2, figsize = (10, 40))\n",
        "[c_ax.axis('off') for c_ax in m_axs.flatten()]\n",
        "for (ax1, ax2), c_img_name in zip(m_axs, test_paths):\n",
        "    img, pred = predict(c_img_name)\n",
        "    ax1.imshow(img[0])\n",
        "    ax1.set_title('Image')\n",
        "    ax2.imshow(pred[0, :, :, 0], vmin = 0, vmax = 1)\n",
        "    ax2.set_title('Prediction')\n",
        "fig.savefig('test_predictions.png')"
      ],
      "metadata": {
        "id": "FEAbU-q8t1dX"
      },
      "execution_count": null,
      "outputs": []
    },
    {
      "cell_type": "markdown",
      "source": [
        "## Preparing model predictions for submission"
      ],
      "metadata": {
        "id": "tDiuIBZB9eUg"
      }
    },
    {
      "cell_type": "code",
      "source": [
        "from scipy import ndimage\n",
        "\n",
        "def split_mask(mask):\n",
        "    threshold = 0.6\n",
        "    threshold_obj = 8 #ignor predictions composed of \"threshold_obj\" pixels or less\n",
        "    labeled,n_objs = ndimage.label(mask > threshold)\n",
        "    result = []\n",
        "    for i in range(n_objs):\n",
        "        obj = (labeled == i + 1).astype(int)\n",
        "        if(obj.sum() > threshold_obj): result.append(obj)\n",
        "    return result"
      ],
      "metadata": {
        "execution": {
          "iopub.status.busy": "2023-09-12T05:11:24.537802Z",
          "iopub.execute_input": "2023-09-12T05:11:24.538157Z",
          "iopub.status.idle": "2023-09-12T05:11:24.545414Z",
          "shell.execute_reply.started": "2023-09-12T05:11:24.538095Z",
          "shell.execute_reply": "2023-09-12T05:11:24.544367Z"
        },
        "trusted": true,
        "id": "W4brtGMY9eUh"
      },
      "execution_count": null,
      "outputs": []
    },
    {
      "cell_type": "code",
      "source": [
        "def get_run_length_encoded_predictions(y_pred, img_name):\n",
        "    list_dict = []\n",
        "    masks = split_mask(y_pred)\n",
        "#     masks = multi_rle_encode(y_pred)\n",
        "    if len(masks) == 0:\n",
        "        list_dict.append({\"ImageId\": img_name, \"EncodedPixels\": np.nan})\n",
        "    for mask in masks:\n",
        "        list_dict.append({\"ImageId\": img_name, \"EncodedPixels\": rle_encode(mask)})\n",
        "    return list_dict"
      ],
      "metadata": {
        "execution": {
          "iopub.status.busy": "2023-09-12T05:11:26.159372Z",
          "iopub.execute_input": "2023-09-12T05:11:26.159722Z",
          "iopub.status.idle": "2023-09-12T05:11:26.166377Z",
          "shell.execute_reply.started": "2023-09-12T05:11:26.159657Z",
          "shell.execute_reply": "2023-09-12T05:11:26.165317Z"
        },
        "trusted": true,
        "id": "d1QScZKH9eUh"
      },
      "execution_count": null,
      "outputs": []
    },
    {
      "cell_type": "code",
      "source": [
        "def predict_and_decode(test_img_names):\n",
        "    list_dict = []\n",
        "    for img_name in test_img_names:\n",
        "        _ , pred = predict(img_name)\n",
        "        rle_pred = get_run_length_encoded_predictions(pred[0], img_name)\n",
        "        list_dict += rle_pred\n",
        "    return pd.DataFrame(list_dict, columns=[\"ImageId\", \"EncodedPixels\"])"
      ],
      "metadata": {
        "execution": {
          "iopub.status.busy": "2023-09-12T05:11:28.023433Z",
          "iopub.execute_input": "2023-09-12T05:11:28.023761Z",
          "iopub.status.idle": "2023-09-12T05:11:28.029786Z",
          "shell.execute_reply.started": "2023-09-12T05:11:28.023704Z",
          "shell.execute_reply": "2023-09-12T05:11:28.028896Z"
        },
        "trusted": true,
        "id": "nzaDn_2U9eUh"
      },
      "execution_count": null,
      "outputs": []
    },
    {
      "cell_type": "code",
      "source": [
        "img = imread(os.path.join(test_image_dir, '0010551d9.jpg'))\n",
        "plt.imshow(img)"
      ],
      "metadata": {
        "id": "nQF7zwxHt6kn"
      },
      "execution_count": null,
      "outputs": []
    },
    {
      "cell_type": "code",
      "source": [
        "test_decoded_pred_df = predict_and_decode(test_paths)\n",
        "test_decoded_pred_df.to_csv('submission.csv', index=False)\n",
        "test_decoded_pred_df"
      ],
      "metadata": {
        "id": "drRqrLaYt8dQ"
      },
      "execution_count": null,
      "outputs": []
    }
  ]
}