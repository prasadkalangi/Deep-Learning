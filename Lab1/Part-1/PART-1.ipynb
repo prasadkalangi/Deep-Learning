{
  "nbformat": 4,
  "nbformat_minor": 0,
  "metadata": {
    "colab": {
      "provenance": []
    },
    "kernelspec": {
      "name": "python3",
      "display_name": "Python 3"
    },
    "language_info": {
      "name": "python"
    }
  },
  "cells": [
    {
      "cell_type": "code",
      "execution_count": null,
      "metadata": {
        "id": "aNjFP4WSaaZu"
      },
      "outputs": [],
      "source": [
        "# importing all the required libraries\n",
        "import pathlib\n",
        "import pickle\n",
        "import os\n",
        "import pandas as pd\n",
        "import numpy as np\n",
        "from time import time\n",
        "from datetime import datetime, timedelta\n",
        "from sklearn.preprocessing import OneHotEncoder, LabelEncoder, MinMaxScaler\n",
        "from sklearn.model_selection import train_test_split\n",
        "from keras.layers import Input, Embedding, concatenate, Flatten, Dense, Dropout\n",
        "from keras.models import Model\n",
        "from tensorflow.keras.utils import plot_model\n",
        "from tensorflow.keras.callbacks import TensorBoard, EarlyStopping, ModelCheckpoint\n",
        "import keras\n",
        "import tensorflow as tf\n",
        "from sklearn.preprocessing import OneHotEncoder\n",
        "from sklearn.model_selection import train_test_split\n",
        "from sklearn import metrics, preprocessing\n",
        "import torch\n",
        "import torch.nn as nn\n",
        "import torch.optim as optim\n",
        "from torch.utils.data import Dataset, DataLoader"
      ]
    },
    {
      "cell_type": "code",
      "source": [
        "from google.colab import drive\n",
        "drive.mount('/content/drive')"
      ],
      "metadata": {
        "colab": {
          "base_uri": "https://localhost:8080/"
        },
        "id": "uI5NsmKTbR4e",
        "outputId": "a7c45a5e-a8ba-469d-ab9f-0d2525526fde"
      },
      "execution_count": null,
      "outputs": [
        {
          "output_type": "stream",
          "name": "stdout",
          "text": [
            "Mounted at /content/drive\n"
          ]
        }
      ]
    },
    {
      "cell_type": "code",
      "source": [
        "pip install --upgrade scikit-learn"
      ],
      "metadata": {
        "colab": {
          "base_uri": "https://localhost:8080/",
          "height": 357
        },
        "id": "qxFV2gelbV71",
        "outputId": "f79e8065-9df2-4dac-8b6d-38922fd396be"
      },
      "execution_count": null,
      "outputs": [
        {
          "output_type": "stream",
          "name": "stdout",
          "text": [
            "Requirement already satisfied: scikit-learn in /usr/local/lib/python3.10/dist-packages (1.2.2)\n",
            "Collecting scikit-learn\n",
            "  Downloading scikit_learn-1.3.2-cp310-cp310-manylinux_2_17_x86_64.manylinux2014_x86_64.whl (10.8 MB)\n",
            "\u001b[2K     \u001b[90m━━━━━━━━━━━━━━━━━━━━━━━━━━━━━━━━━━━━━━━━\u001b[0m \u001b[32m10.8/10.8 MB\u001b[0m \u001b[31m36.8 MB/s\u001b[0m eta \u001b[36m0:00:00\u001b[0m\n",
            "\u001b[?25hRequirement already satisfied: numpy<2.0,>=1.17.3 in /usr/local/lib/python3.10/dist-packages (from scikit-learn) (1.23.5)\n",
            "Requirement already satisfied: scipy>=1.5.0 in /usr/local/lib/python3.10/dist-packages (from scikit-learn) (1.11.3)\n",
            "Requirement already satisfied: joblib>=1.1.1 in /usr/local/lib/python3.10/dist-packages (from scikit-learn) (1.3.2)\n",
            "Requirement already satisfied: threadpoolctl>=2.0.0 in /usr/local/lib/python3.10/dist-packages (from scikit-learn) (3.2.0)\n",
            "Installing collected packages: scikit-learn\n",
            "  Attempting uninstall: scikit-learn\n",
            "    Found existing installation: scikit-learn 1.2.2\n",
            "    Uninstalling scikit-learn-1.2.2:\n",
            "      Successfully uninstalled scikit-learn-1.2.2\n",
            "Successfully installed scikit-learn-1.3.2\n"
          ]
        },
        {
          "output_type": "display_data",
          "data": {
            "application/vnd.colab-display-data+json": {
              "pip_warning": {
                "packages": [
                  "sklearn"
                ]
              }
            }
          },
          "metadata": {}
        }
      ]
    },
    {
      "cell_type": "code",
      "source": [
        "book = pd.read_csv('BX-Books.csv', sep=';', encoding='latin-1', error_bad_lines=False)\n",
        "print(book.columns)\n",
        "if 'Image-URL-S' in book.columns and 'Image-URL-M' in book.columns and 'Image-URL-L' in book.columns:\n",
        "    book = book.drop(columns=['Image-URL-S', 'Image-URL-M', 'Image-URL-L'])\n",
        "print(book.head(5))\n",
        "ratings = pd.read_csv('BX-Book-Ratings.csv', sep=\";\", on_bad_lines='warn', encoding=\"latin-1\")\n",
        "print(ratings.head(5))"
      ],
      "metadata": {
        "id": "Ru_1wfeeasR3"
      },
      "execution_count": null,
      "outputs": []
    },
    {
      "cell_type": "code",
      "source": [
        "users = pd.read_csv('BX-Users.csv', sep=\";\", on_bad_lines='warn', encoding=\"latin-1\")\n",
        "data = pd.merge(ratings, users, on='User-ID', how='inner')\n",
        "data = pd.merge(data, book, on='ISBN', how='inner')\n",
        "lbl_isbn = preprocessing.LabelEncoder()\n",
        "lbl_title = preprocessing.LabelEncoder()\n",
        "lbl_author = preprocessing.LabelEncoder()\n",
        "lbl_publisher = preprocessing.LabelEncoder()\n",
        "lbl_location = preprocessing.LabelEncoder()"
      ],
      "metadata": {
        "id": "A13Oq06ma6_4"
      },
      "execution_count": null,
      "outputs": []
    },
    {
      "cell_type": "code",
      "source": [
        "data['Year-Of-Publication'] = pd.to_numeric(data['Year-Of-Publication'], errors='coerce')\n",
        "book = pd.read_csv('BX-Books.csv', sep=';', encoding='latin-1', error_bad_lines=False)\n",
        "print(book.columns)\n",
        "if 'Image-URL-S' in book.columns and 'Image-URL-M' in book.columns and 'Image-URL-L' in book.columns:\n",
        "    book = book.drop(columns=['Image-URL-S', 'Image-URL-M', 'Image-URL-L'])\n",
        "print(book.head(5))\n",
        "ratings = pd.read_csv('BX-Book-Ratings.csv', sep=\";\", on_bad_lines='warn', encoding=\"latin-1\")\n",
        "print(ratings.head(5))"
      ],
      "metadata": {
        "id": "9GJDWTgNbq8X"
      },
      "execution_count": null,
      "outputs": []
    },
    {
      "cell_type": "code",
      "source": [
        "users = pd.read_csv('BX-Users.csv', sep=\";\", on_bad_lines='warn', encoding=\"latin-1\")\n",
        "data = pd.merge(ratings, users, on='User-ID', how='inner')\n",
        "data = pd.merge(data, book, on='ISBN', how='inner')\n",
        "lbl_isbn = preprocessing.LabelEncoder()\n",
        "lbl_title = preprocessing.LabelEncoder()\n",
        "lbl_author = preprocessing.LabelEncoder()\n",
        "lbl_publisher = preprocessing.LabelEncoder()\n",
        "lbl_location = preprocessing.LabelEncoder()"
      ],
      "metadata": {
        "id": "vb1a-udPbt77"
      },
      "execution_count": null,
      "outputs": []
    },
    {
      "cell_type": "code",
      "source": [
        "data['Year-Of-Publication'] = pd.to_numeric(data['Year-Of-Publication'], errors='coerce')\n",
        "book = pd.read_csv('BX-Books.csv', sep=';', encoding='latin-1', error_bad_lines=False)\n",
        "print(book.columns)"
      ],
      "metadata": {
        "id": "iWh8tL0Qbw6B"
      },
      "execution_count": null,
      "outputs": []
    },
    {
      "cell_type": "code",
      "source": [
        "if 'Image-URL-S' in book.columns and 'Image-URL-M' in book.columns and 'Image-URL-L' in book.columns:\n",
        "    book = book.drop(columns=['Image-URL-S', 'Image-URL-M', 'Image-URL-L'])\n",
        "print(book.head(5))\n",
        "ratings = pd.read_csv('BX-Book-Ratings.csv', sep=\";\", on_bad_lines='warn', encoding=\"latin-1\")\n",
        "print(ratings.head(5))"
      ],
      "metadata": {
        "id": "7FlVePWPbzqB"
      },
      "execution_count": null,
      "outputs": []
    },
    {
      "cell_type": "code",
      "source": [
        "users = pd.read_csv('BX-Users.csv', sep=\";\", on_bad_lines='warn', encoding=\"latin-1\")\n",
        "data = pd.merge(ratings, users, on='User-ID', how='inner')\n",
        "data = pd.merge(data, book, on='ISBN', how='inner')\n",
        "lbl_isbn = preprocessing.LabelEncoder()\n",
        "lbl_title = preprocessing.LabelEncoder()\n",
        "lbl_author = preprocessing.LabelEncoder()\n",
        "lbl_publisher = preprocessing.LabelEncoder()\n",
        "lbl_location = preprocessing.LabelEncoder()"
      ],
      "metadata": {
        "id": "5nsahFFsb3EH"
      },
      "execution_count": null,
      "outputs": []
    },
    {
      "cell_type": "code",
      "source": [
        "data['Year-Of-Publication'] = pd.to_numeric(data['Year-Of-Publication'], errors='coerce')"
      ],
      "metadata": {
        "id": "0vDIqC00b5pi"
      },
      "execution_count": null,
      "outputs": []
    },
    {
      "cell_type": "code",
      "source": [
        "book = pd.read_csv('BX-Books.csv', sep=';', encoding='latin-1', error_bad_lines=False)\n",
        "print(book.columns)"
      ],
      "metadata": {
        "id": "BVxjawhCb95l"
      },
      "execution_count": null,
      "outputs": []
    },
    {
      "cell_type": "code",
      "source": [
        "if 'Image-URL-S' in book.columns and 'Image-URL-M' in book.columns and 'Image-URL-L' in book.columns:\n",
        "    book = book.drop(columns=['Image-URL-S', 'Image-URL-M', 'Image-URL-L'])\n",
        "print(book.head(5))\n",
        "ratings = pd.read_csv('BX-Book-Ratings.csv', sep=\";\", on_bad_lines='warn', encoding=\"latin-1\")\n",
        "print(ratings.head(5))"
      ],
      "metadata": {
        "id": "AKnCvwIbcBFD"
      },
      "execution_count": null,
      "outputs": []
    },
    {
      "cell_type": "code",
      "source": [
        "users = pd.read_csv('BX-Users.csv', sep=\";\", on_bad_lines='warn', encoding=\"latin-1\")\n",
        "data = pd.merge(ratings, users, on='User-ID', how='inner')\n",
        "data = pd.merge(data, book, on='ISBN', how='inner')\n",
        "lbl_isbn = preprocessing.LabelEncoder()\n",
        "lbl_title = preprocessing.LabelEncoder()\n",
        "lbl_author = preprocessing.LabelEncoder()\n",
        "lbl_publisher = preprocessing.LabelEncoder()\n",
        "lbl_location = preprocessing.LabelEncoder()"
      ],
      "metadata": {
        "id": "NrD4AXMKcBrQ"
      },
      "execution_count": null,
      "outputs": []
    },
    {
      "cell_type": "code",
      "source": [
        "data['Year-Of-Publication'] = pd.to_numeric(data['Year-Of-Publication'], errors='coerce')"
      ],
      "metadata": {
        "id": "K-5MQtx2cEfM"
      },
      "execution_count": null,
      "outputs": []
    },
    {
      "cell_type": "code",
      "source": [
        "# Encoding the other columns\n",
        "data['ISBN'] = lbl_isbn.fit_transform(data['ISBN'].values)\n",
        "data['Book-Title'] = lbl_title.fit_transform(data['Book-Title'].values)\n",
        "data['Book-Author'] = lbl_author.fit_transform(data['Book-Author'].values)\n",
        "data['Publisher'] = lbl_publisher.fit_transform(data['Publisher'].values)\n",
        "data['Age'] = data['Age'].fillna(0).astype(int)\n",
        "data['Location'] = lbl_location.fit_transform(data['Location'].values)"
      ],
      "metadata": {
        "id": "yZG6jieEcH3y"
      },
      "execution_count": null,
      "outputs": []
    },
    {
      "cell_type": "code",
      "source": [
        "class BookDataset(Dataset):\n",
        "    def __init__(self, data) -> None:\n",
        "        self.isbns = data['ISBN']\n",
        "        self.book_titles = data['Book-Title']\n",
        "        self.book_authors = data['Book-Author']\n",
        "        self.year_of_publications = data['Year-Of-Publication']\n",
        "        self.publishers = data['Publisher']\n",
        "        self.user_ids = data['User-ID']\n",
        "        self.locations = data['Location']\n",
        "        self.ages = data['Age']\n",
        "        self.book_ratings = data['Book-Rating']\n",
        "    def __len__(self):\n",
        "        return len(self.isbns)\n",
        "    def __getitem__(self, item):\n",
        "        isbn = self.isbns[item]\n",
        "        book_title = self.book_titles[item]\n",
        "        book_author = self.book_authors[item]\n",
        "        year_of_publication = self.year_of_publications[item]\n",
        "        publisher = self.publishers[item]\n",
        "        user_id = self.user_ids[item]\n",
        "        location = self.locations[item]\n",
        "        age = self.ages[item]\n",
        "        book_rating = self.book_ratings[item]\n",
        "        return {\n",
        "            'isbn': torch.tensor(isbn, dtype=torch.long),\n",
        "            'book_title': torch.tensor(book_title, dtype=torch.long),\n",
        "            'book_author': torch.tensor(book_author, dtype=torch.long),\n",
        "            'publisher': torch.tensor(publisher, dtype=torch.long),\n",
        "            'user_id': torch.tensor(user_id, dtype=torch.long),\n",
        "            'location': torch.tensor(location, dtype=torch.long),\n",
        "            'year_of_publication': torch.tensor(year_of_publication, dtype=torch.float),\n",
        "            'age': torch.tensor(age, dtype=torch.float),\n",
        "            'book_rating': torch.tensor(book_rating, dtype=torch.float),}"
      ],
      "metadata": {
        "id": "LY3k9ryQcIJh"
      },
      "execution_count": null,
      "outputs": []
    },
    {
      "cell_type": "code",
      "source": [
        "dataset = BookDataset(data)\n",
        "train_data, test_data = train_test_split(dataset, test_size=0.2, random_state=2023)\n",
        "class RecommenderModel(nn.Module):\n",
        "    def __init__(self, cat_dims, cont_dims, embedding_dim):\n",
        "        super(RecommenderModel, self).__init__()\n",
        "        self.cat_embeddings = [\n",
        "            {\n",
        "                'name': cat,\n",
        "                'embed': nn.Embedding(num_classes, embedding_dim)\n",
        "            } for cat, num_classes in cat_dims.items()]\n",
        "        self.fc_cats = [\n",
        "            nn.Sequential(\n",
        "                nn.Linear(embedding_dim, 64),\n",
        "                nn.ReLU()\n",
        "            ) for _ in self.cat_embeddings]\n",
        "        self.fc_cont = nn.Sequential(\n",
        "            nn.Linear(cont_dims, 64),\n",
        "            nn.ReLU())\n",
        "        self.wide_layer = nn.Sequential(\n",
        "            nn.Linear(64 * (len(cat_dims.keys()) + 1), 1024),\n",
        "            nn.ReLU(),\n",
        "            nn.Linear(1024, 10),\n",
        "            nn.Softmax(dim=1))\n",
        "        self.deep_layer = nn.Sequential(\n",
        "            nn.Linear(64 * (len(cat_dims.keys()) + 1), 1024),\n",
        "            nn.ReLU(),\n",
        "            nn.Dropout(0.5),\n",
        "            nn.Linear(1024, 512),\n",
        "            nn.ReLU(),\n",
        "            nn.Dropout(0.5),\n",
        "            nn.Linear(512, 256),\n",
        "            nn.ReLU(),\n",
        "            nn.Dropout(0.5),\n",
        "            nn.Linear(256, 10),\n",
        "            nn.Softmax(dim=1))\n",
        "    def forward(self, batch):\n",
        "        cat_embeddings = []\n",
        "        for ce in self.cat_embeddings:\n",
        "                em = ce['embed'](batch[ce['name']])\n",
        "                cat_embeddings.append(em)\n",
        "        cat_features = [fc(cat_embed) for cat_embed, fc in zip(cat_embeddings, self.fc_cats)]\n",
        "        cont_features = torch.stack([batch['user_id'], batch['year_of_publication'], batch['age']])\n",
        "        cont_features = cont_features.reshape(cont_features.shape[1], cont_features.shape[0])\n",
        "        cont_features = self.fc_cont(cont_features)\n",
        "        concatenated_features = torch.cat([cont_features] + cat_features, dim=1)\n",
        "        wide_output = self.wide_layer(concatenated_features)\n",
        "        deep_output = self.deep_layer(concatenated_features)\n",
        "        combined_output = torch.stack([wide_output, deep_output])\n",
        "        item_scores = torch.sum(combined_output, 0) / wide_output.shape[0]\n",
        "        return item_scores"
      ],
      "metadata": {
        "id": "ZfLaz_ctcMF-"
      },
      "execution_count": null,
      "outputs": []
    },
    {
      "cell_type": "code",
      "source": [
        "categorical_dims = {\n",
        "    'isbn': len(data['ISBN'].unique()),\n",
        "    'book_title': len(data['Book-Title'].unique()),\n",
        "    'book_author': len(data['Book-Author'].unique()),\n",
        "    'publisher': len(data['Publisher'].unique()) + 1,\n",
        "    # 'user_id': combined['User-ID'].max() + 1,\n",
        "    'location': len(data['Location'].unique()) + 1}"
      ],
      "metadata": {
        "id": "aQpHPbGbcUla"
      },
      "execution_count": null,
      "outputs": []
    },
    {
      "cell_type": "code",
      "source": [
        "model = RecommenderModel(categorical_dims, 3, 32)\n",
        "optimizer = optim.Adam(model.parameters(), lr=0.001, weight_decay=0.01)\n",
        "scheduler = optim.lr_scheduler.StepLR(optimizer, step_size=3, gamma=0.1)\n",
        "num_epochs = 10\n",
        "validation_split = 0.2\n",
        "train_data, val_data = train_test_split(dataset, test_size=validation_split, random_state=2023)\n",
        "batch_size = 1024\n",
        "train_loader = DataLoader(train_data, batch_size=batch_size, shuffle=True)\n",
        "val_loader = DataLoader(val_data, batch_size=batch_size, shuffle=True)\n",
        "optimizer = optim.Adam(model.parameters(), lr=0.001)\n",
        "criterion = nn.MSELoss()"
      ],
      "metadata": {
        "id": "3j8yLyNmcX_4"
      },
      "execution_count": null,
      "outputs": []
    },
    {
      "cell_type": "code",
      "source": [
        "for epoch in range(num_epochs):\n",
        "    model.train()\n",
        "    total_loss = 0.0\n",
        "    for batch in train_loader:\n",
        "        ratings = batch['book_rating'].clone()\n",
        "        ratings = ratings.view(-1, 1)\n",
        "        del batch['book_rating']\n",
        "        optimizer.zero_grad()\n",
        "        pred = model(batch)\n",
        "        loss = criterion(pred, ratings)\n",
        "        loss.backward()\n",
        "        optimizer.step()\n",
        "        total_loss += loss.item()\n",
        "    scheduler.step()\n",
        "    # The average loss for the epoch\n",
        "    avg_loss_epoch = total_loss / len(train_loader)\n",
        "    print(f\"Epoch [{epoch+1}/{num_epochs}] - Training Loss: {avg_loss_epoch:.4f}\")\n",
        "    # loop validating\n",
        "    model.eval()\n",
        "    with torch.no_grad():\n",
        "        total_val_loss = 0.0\n",
        "        for batch in val_loader:\n",
        "            ratings = batch['book_rating'].clone()\n",
        "            ratings = ratings.view(-1, 1)\n",
        "            del batch['book_rating']\n",
        "            pred = model(batch)\n",
        "            val_loss = criterion(pred, ratings)\n",
        "            total_val_loss += val_loss.item()\n",
        "        avg_val_loss = total_val_loss / len(val_loader)\n",
        "        print(f\"Epoch [{epoch+1}/{num_epochs}] - Validation Loss: {avg_val_loss:.4f}\")"
      ],
      "metadata": {
        "id": "YdlcCTCIcbKS"
      },
      "execution_count": null,
      "outputs": []
    },
    {
      "cell_type": "code",
      "source": [
        "test_loader = DataLoader(test_data, batch_size=batch_size, shuffle=True)"
      ],
      "metadata": {
        "id": "DTLp4DZPcfDk"
      },
      "execution_count": null,
      "outputs": []
    },
    {
      "cell_type": "code",
      "source": [
        "total_mse = 0\n",
        "model.eval()\n",
        "for batch in test_loader:\n",
        "    ratings = batch['book_rating'].clone()\n",
        "    ratings = ratings.view(-1, 1)\n",
        "    del batch['book_rating']\n",
        "    predict = model(batch)\n",
        "    y_true = ratings.numpy()\n",
        "    y_pred = predict.numpy()\n",
        "    total_mse += mean_squared_error(y_true, y_pred)\n",
        "print('The Average MSE: ', total_mse / len(test_loader))"
      ],
      "metadata": {
        "id": "9sX4z6P9cjKf"
      },
      "execution_count": null,
      "outputs": []
    },
    {
      "cell_type": "code",
      "source": [],
      "metadata": {
        "id": "GnaBsgPjclyO"
      },
      "execution_count": null,
      "outputs": []
    }
  ]
}